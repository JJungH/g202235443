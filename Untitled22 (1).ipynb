{
 "cells": [
  {
   "cell_type": "code",
   "execution_count": 123,
   "id": "f763af63",
   "metadata": {},
   "outputs": [
    {
     "data": {
      "text/html": [
       "<div>\n",
       "<style scoped>\n",
       "    .dataframe tbody tr th:only-of-type {\n",
       "        vertical-align: middle;\n",
       "    }\n",
       "\n",
       "    .dataframe tbody tr th {\n",
       "        vertical-align: top;\n",
       "    }\n",
       "\n",
       "    .dataframe thead th {\n",
       "        text-align: right;\n",
       "    }\n",
       "</style>\n",
       "<table border=\"1\" class=\"dataframe\">\n",
       "  <thead>\n",
       "    <tr style=\"text-align: right;\">\n",
       "      <th></th>\n",
       "      <th>class</th>\n",
       "      <th>cap-shape</th>\n",
       "      <th>cap-surface</th>\n",
       "      <th>cap-color</th>\n",
       "      <th>bruises</th>\n",
       "      <th>odor</th>\n",
       "      <th>gill-attachment</th>\n",
       "      <th>gill-spacing</th>\n",
       "      <th>gill-size</th>\n",
       "      <th>gill-color</th>\n",
       "      <th>...</th>\n",
       "      <th>stalk-surface-below-ring</th>\n",
       "      <th>stalk-color-above-ring</th>\n",
       "      <th>stalk-color-below-ring</th>\n",
       "      <th>veil-type</th>\n",
       "      <th>veil-color</th>\n",
       "      <th>ring-number</th>\n",
       "      <th>ring-type</th>\n",
       "      <th>spore-print-color</th>\n",
       "      <th>population</th>\n",
       "      <th>habitat</th>\n",
       "    </tr>\n",
       "  </thead>\n",
       "  <tbody>\n",
       "    <tr>\n",
       "      <th>0</th>\n",
       "      <td>p</td>\n",
       "      <td>x</td>\n",
       "      <td>s</td>\n",
       "      <td>n</td>\n",
       "      <td>t</td>\n",
       "      <td>p</td>\n",
       "      <td>f</td>\n",
       "      <td>c</td>\n",
       "      <td>n</td>\n",
       "      <td>k</td>\n",
       "      <td>...</td>\n",
       "      <td>s</td>\n",
       "      <td>w</td>\n",
       "      <td>w</td>\n",
       "      <td>p</td>\n",
       "      <td>w</td>\n",
       "      <td>o</td>\n",
       "      <td>p</td>\n",
       "      <td>k</td>\n",
       "      <td>s</td>\n",
       "      <td>u</td>\n",
       "    </tr>\n",
       "    <tr>\n",
       "      <th>1</th>\n",
       "      <td>e</td>\n",
       "      <td>x</td>\n",
       "      <td>s</td>\n",
       "      <td>y</td>\n",
       "      <td>t</td>\n",
       "      <td>a</td>\n",
       "      <td>f</td>\n",
       "      <td>c</td>\n",
       "      <td>b</td>\n",
       "      <td>k</td>\n",
       "      <td>...</td>\n",
       "      <td>s</td>\n",
       "      <td>w</td>\n",
       "      <td>w</td>\n",
       "      <td>p</td>\n",
       "      <td>w</td>\n",
       "      <td>o</td>\n",
       "      <td>p</td>\n",
       "      <td>n</td>\n",
       "      <td>n</td>\n",
       "      <td>g</td>\n",
       "    </tr>\n",
       "    <tr>\n",
       "      <th>2</th>\n",
       "      <td>e</td>\n",
       "      <td>b</td>\n",
       "      <td>s</td>\n",
       "      <td>w</td>\n",
       "      <td>t</td>\n",
       "      <td>l</td>\n",
       "      <td>f</td>\n",
       "      <td>c</td>\n",
       "      <td>b</td>\n",
       "      <td>n</td>\n",
       "      <td>...</td>\n",
       "      <td>s</td>\n",
       "      <td>w</td>\n",
       "      <td>w</td>\n",
       "      <td>p</td>\n",
       "      <td>w</td>\n",
       "      <td>o</td>\n",
       "      <td>p</td>\n",
       "      <td>n</td>\n",
       "      <td>n</td>\n",
       "      <td>m</td>\n",
       "    </tr>\n",
       "    <tr>\n",
       "      <th>3</th>\n",
       "      <td>p</td>\n",
       "      <td>x</td>\n",
       "      <td>y</td>\n",
       "      <td>w</td>\n",
       "      <td>t</td>\n",
       "      <td>p</td>\n",
       "      <td>f</td>\n",
       "      <td>c</td>\n",
       "      <td>n</td>\n",
       "      <td>n</td>\n",
       "      <td>...</td>\n",
       "      <td>s</td>\n",
       "      <td>w</td>\n",
       "      <td>w</td>\n",
       "      <td>p</td>\n",
       "      <td>w</td>\n",
       "      <td>o</td>\n",
       "      <td>p</td>\n",
       "      <td>k</td>\n",
       "      <td>s</td>\n",
       "      <td>u</td>\n",
       "    </tr>\n",
       "    <tr>\n",
       "      <th>4</th>\n",
       "      <td>e</td>\n",
       "      <td>x</td>\n",
       "      <td>s</td>\n",
       "      <td>g</td>\n",
       "      <td>f</td>\n",
       "      <td>n</td>\n",
       "      <td>f</td>\n",
       "      <td>w</td>\n",
       "      <td>b</td>\n",
       "      <td>k</td>\n",
       "      <td>...</td>\n",
       "      <td>s</td>\n",
       "      <td>w</td>\n",
       "      <td>w</td>\n",
       "      <td>p</td>\n",
       "      <td>w</td>\n",
       "      <td>o</td>\n",
       "      <td>e</td>\n",
       "      <td>n</td>\n",
       "      <td>a</td>\n",
       "      <td>g</td>\n",
       "    </tr>\n",
       "  </tbody>\n",
       "</table>\n",
       "<p>5 rows × 23 columns</p>\n",
       "</div>"
      ],
      "text/plain": [
       "  class cap-shape cap-surface cap-color bruises odor gill-attachment  \\\n",
       "0     p         x           s         n       t    p               f   \n",
       "1     e         x           s         y       t    a               f   \n",
       "2     e         b           s         w       t    l               f   \n",
       "3     p         x           y         w       t    p               f   \n",
       "4     e         x           s         g       f    n               f   \n",
       "\n",
       "  gill-spacing gill-size gill-color  ... stalk-surface-below-ring  \\\n",
       "0            c         n          k  ...                        s   \n",
       "1            c         b          k  ...                        s   \n",
       "2            c         b          n  ...                        s   \n",
       "3            c         n          n  ...                        s   \n",
       "4            w         b          k  ...                        s   \n",
       "\n",
       "  stalk-color-above-ring stalk-color-below-ring veil-type veil-color  \\\n",
       "0                      w                      w         p          w   \n",
       "1                      w                      w         p          w   \n",
       "2                      w                      w         p          w   \n",
       "3                      w                      w         p          w   \n",
       "4                      w                      w         p          w   \n",
       "\n",
       "  ring-number ring-type spore-print-color population habitat  \n",
       "0           o         p                 k          s       u  \n",
       "1           o         p                 n          n       g  \n",
       "2           o         p                 n          n       m  \n",
       "3           o         p                 k          s       u  \n",
       "4           o         e                 n          a       g  \n",
       "\n",
       "[5 rows x 23 columns]"
      ]
     },
     "execution_count": 123,
     "metadata": {},
     "output_type": "execute_result"
    }
   ],
   "source": [
    "import pandas as pd \n",
    "import numpy as np\n",
    "import matplotlib.pyplot as plt\n",
    "import seaborn as sns \n",
    "from sklearn.model_selection import train_test_split\n",
    "from sklearn.preprocessing import LabelEncoder\n",
    "\n",
    "df_data = pd.read_csv(r\"C:\\Users\\wgdwe\\OneDrive\\바탕 화면\\정헌영\\가천대학교 2-1\\인공지능\\mushrooms.csv\")\n",
    "df = pd.DataFrame(df_data, )\n",
    "df.head()"
   ]
  },
  {
   "cell_type": "code",
   "execution_count": 124,
   "id": "c5bbf351",
   "metadata": {},
   "outputs": [
    {
     "data": {
      "text/plain": [
       "class                       0\n",
       "cap-shape                   0\n",
       "cap-surface                 0\n",
       "cap-color                   0\n",
       "bruises                     0\n",
       "odor                        0\n",
       "gill-attachment             0\n",
       "gill-spacing                0\n",
       "gill-size                   0\n",
       "gill-color                  0\n",
       "stalk-shape                 0\n",
       "stalk-root                  0\n",
       "stalk-surface-above-ring    0\n",
       "stalk-surface-below-ring    0\n",
       "stalk-color-above-ring      0\n",
       "stalk-color-below-ring      0\n",
       "veil-type                   0\n",
       "veil-color                  0\n",
       "ring-number                 0\n",
       "ring-type                   0\n",
       "spore-print-color           0\n",
       "population                  0\n",
       "habitat                     0\n",
       "dtype: int64"
      ]
     },
     "execution_count": 124,
     "metadata": {},
     "output_type": "execute_result"
    }
   ],
   "source": [
    "df.isnull().sum()"
   ]
  },
  {
   "cell_type": "code",
   "execution_count": 125,
   "id": "f701e01f",
   "metadata": {},
   "outputs": [
    {
     "data": {
      "text/plain": [
       "<AxesSubplot:xlabel='class', ylabel='count'>"
      ]
     },
     "execution_count": 125,
     "metadata": {},
     "output_type": "execute_result"
    },
    {
     "data": {
      "image/png": "[encoded data removed]",
      "text/plain": [
       "<Figure size 640x480 with 1 Axes>"
      ]
     },
     "metadata": {},
     "output_type": "display_data"
    }
   ],
   "source": [
    "sns.countplot(data=df,x=\"class\" )"
   ]
  },
  {
   "cell_type": "code",
   "execution_count": 126,
   "id": "6d78b1cc",
   "metadata": {},
   "outputs": [
    {
     "data": {
      "text/plain": [
       "e    4208\n",
       "p    3916\n",
       "Name: class, dtype: int64"
      ]
     },
     "execution_count": 126,
     "metadata": {},
     "output_type": "execute_result"
    }
   ],
   "source": [
    "df[\"class\"].value_counts()"
   ]
  },
  {
   "cell_type": "code",
   "execution_count": 127,
   "id": "89b849e8",
   "metadata": {},
   "outputs": [
    {
     "data": {
      "text/html": [
       "<div>\n",
       "<style scoped>\n",
       "    .dataframe tbody tr th:only-of-type {\n",
       "        vertical-align: middle;\n",
       "    }\n",
       "\n",
       "    .dataframe tbody tr th {\n",
       "        vertical-align: top;\n",
       "    }\n",
       "\n",
       "    .dataframe thead th {\n",
       "        text-align: right;\n",
       "    }\n",
       "</style>\n",
       "<table border=\"1\" class=\"dataframe\">\n",
       "  <thead>\n",
       "    <tr style=\"text-align: right;\">\n",
       "      <th></th>\n",
       "      <th>class</th>\n",
       "      <th>cap-shape</th>\n",
       "      <th>cap-surface</th>\n",
       "      <th>cap-color</th>\n",
       "      <th>bruises</th>\n",
       "      <th>odor</th>\n",
       "      <th>gill-attachment</th>\n",
       "      <th>gill-spacing</th>\n",
       "      <th>gill-size</th>\n",
       "      <th>gill-color</th>\n",
       "      <th>...</th>\n",
       "      <th>stalk-surface-below-ring</th>\n",
       "      <th>stalk-color-above-ring</th>\n",
       "      <th>stalk-color-below-ring</th>\n",
       "      <th>veil-type</th>\n",
       "      <th>veil-color</th>\n",
       "      <th>ring-number</th>\n",
       "      <th>ring-type</th>\n",
       "      <th>spore-print-color</th>\n",
       "      <th>population</th>\n",
       "      <th>habitat</th>\n",
       "    </tr>\n",
       "  </thead>\n",
       "  <tbody>\n",
       "    <tr>\n",
       "      <th>0</th>\n",
       "      <td>1</td>\n",
       "      <td>5</td>\n",
       "      <td>2</td>\n",
       "      <td>4</td>\n",
       "      <td>1</td>\n",
       "      <td>6</td>\n",
       "      <td>1</td>\n",
       "      <td>0</td>\n",
       "      <td>1</td>\n",
       "      <td>4</td>\n",
       "      <td>...</td>\n",
       "      <td>2</td>\n",
       "      <td>7</td>\n",
       "      <td>7</td>\n",
       "      <td>0</td>\n",
       "      <td>2</td>\n",
       "      <td>1</td>\n",
       "      <td>4</td>\n",
       "      <td>2</td>\n",
       "      <td>3</td>\n",
       "      <td>5</td>\n",
       "    </tr>\n",
       "    <tr>\n",
       "      <th>1</th>\n",
       "      <td>0</td>\n",
       "      <td>5</td>\n",
       "      <td>2</td>\n",
       "      <td>9</td>\n",
       "      <td>1</td>\n",
       "      <td>0</td>\n",
       "      <td>1</td>\n",
       "      <td>0</td>\n",
       "      <td>0</td>\n",
       "      <td>4</td>\n",
       "      <td>...</td>\n",
       "      <td>2</td>\n",
       "      <td>7</td>\n",
       "      <td>7</td>\n",
       "      <td>0</td>\n",
       "      <td>2</td>\n",
       "      <td>1</td>\n",
       "      <td>4</td>\n",
       "      <td>3</td>\n",
       "      <td>2</td>\n",
       "      <td>1</td>\n",
       "    </tr>\n",
       "    <tr>\n",
       "      <th>2</th>\n",
       "      <td>0</td>\n",
       "      <td>0</td>\n",
       "      <td>2</td>\n",
       "      <td>8</td>\n",
       "      <td>1</td>\n",
       "      <td>3</td>\n",
       "      <td>1</td>\n",
       "      <td>0</td>\n",
       "      <td>0</td>\n",
       "      <td>5</td>\n",
       "      <td>...</td>\n",
       "      <td>2</td>\n",
       "      <td>7</td>\n",
       "      <td>7</td>\n",
       "      <td>0</td>\n",
       "      <td>2</td>\n",
       "      <td>1</td>\n",
       "      <td>4</td>\n",
       "      <td>3</td>\n",
       "      <td>2</td>\n",
       "      <td>3</td>\n",
       "    </tr>\n",
       "    <tr>\n",
       "      <th>3</th>\n",
       "      <td>1</td>\n",
       "      <td>5</td>\n",
       "      <td>3</td>\n",
       "      <td>8</td>\n",
       "      <td>1</td>\n",
       "      <td>6</td>\n",
       "      <td>1</td>\n",
       "      <td>0</td>\n",
       "      <td>1</td>\n",
       "      <td>5</td>\n",
       "      <td>...</td>\n",
       "      <td>2</td>\n",
       "      <td>7</td>\n",
       "      <td>7</td>\n",
       "      <td>0</td>\n",
       "      <td>2</td>\n",
       "      <td>1</td>\n",
       "      <td>4</td>\n",
       "      <td>2</td>\n",
       "      <td>3</td>\n",
       "      <td>5</td>\n",
       "    </tr>\n",
       "    <tr>\n",
       "      <th>4</th>\n",
       "      <td>0</td>\n",
       "      <td>5</td>\n",
       "      <td>2</td>\n",
       "      <td>3</td>\n",
       "      <td>0</td>\n",
       "      <td>5</td>\n",
       "      <td>1</td>\n",
       "      <td>1</td>\n",
       "      <td>0</td>\n",
       "      <td>4</td>\n",
       "      <td>...</td>\n",
       "      <td>2</td>\n",
       "      <td>7</td>\n",
       "      <td>7</td>\n",
       "      <td>0</td>\n",
       "      <td>2</td>\n",
       "      <td>1</td>\n",
       "      <td>0</td>\n",
       "      <td>3</td>\n",
       "      <td>0</td>\n",
       "      <td>1</td>\n",
       "    </tr>\n",
       "  </tbody>\n",
       "</table>\n",
       "<p>5 rows × 23 columns</p>\n",
       "</div>"
      ],
      "text/plain": [
       "   class  cap-shape  cap-surface  cap-color  bruises  odor  gill-attachment  \\\n",
       "0      1          5            2          4        1     6                1   \n",
       "1      0          5            2          9        1     0                1   \n",
       "2      0          0            2          8        1     3                1   \n",
       "3      1          5            3          8        1     6                1   \n",
       "4      0          5            2          3        0     5                1   \n",
       "\n",
       "   gill-spacing  gill-size  gill-color  ...  stalk-surface-below-ring  \\\n",
       "0             0          1           4  ...                         2   \n",
       "1             0          0           4  ...                         2   \n",
       "2             0          0           5  ...                         2   \n",
       "3             0          1           5  ...                         2   \n",
       "4             1          0           4  ...                         2   \n",
       "\n",
       "   stalk-color-above-ring  stalk-color-below-ring  veil-type  veil-color  \\\n",
       "0                       7                       7          0           2   \n",
       "1                       7                       7          0           2   \n",
       "2                       7                       7          0           2   \n",
       "3                       7                       7          0           2   \n",
       "4                       7                       7          0           2   \n",
       "\n",
       "   ring-number  ring-type  spore-print-color  population  habitat  \n",
       "0            1          4                  2           3        5  \n",
       "1            1          4                  3           2        1  \n",
       "2            1          4                  3           2        3  \n",
       "3            1          4                  2           3        5  \n",
       "4            1          0                  3           0        1  \n",
       "\n",
       "[5 rows x 23 columns]"
      ]
     },
     "execution_count": 127,
     "metadata": {},
     "output_type": "execute_result"
    }
   ],
   "source": [
    "le = LabelEncoder()\n",
    "for i in df.columns:\n",
    "    df[i] = le.fit_transform(df[i])\n",
    "    \n",
    "df.head()"
   ]
  },
  {
   "cell_type": "code",
   "execution_count": 128,
   "id": "776d1dc8",
   "metadata": {},
   "outputs": [],
   "source": [
    "X = df.drop(\"class\", axis=1)\n",
    "y=df[\"class\"]"
   ]
  },
  {
   "cell_type": "code",
   "execution_count": 129,
   "id": "1c3bac79",
   "metadata": {},
   "outputs": [],
   "source": [
    "X_train, X_test, y_train, y_test = train_test_split(X,y,test_size = 0.25, random_state = 0)"
   ]
  },
  {
   "cell_type": "code",
   "execution_count": 130,
   "id": "63fb5bb7",
   "metadata": {},
   "outputs": [],
   "source": [
    "from sklearn.neighbors import KNeighborsClassifier\n",
    "from sklearn.linear_model import LogisticRegression\n",
    "from sklearn.svm import SVC\n",
    "from sklearn.neural_network import MLPClassifier\n",
    "from sklearn.tree import DecisionTreeClassifier\n",
    "from sklearn.metrics import accuracy_score\n",
    "from sklearn.metrics import confusion_matrix"
   ]
  },
  {
   "cell_type": "code",
   "execution_count": 131,
   "id": "2d7457fa",
   "metadata": {},
   "outputs": [
    {
     "name": "stdout",
     "output_type": "stream",
     "text": [
      "\n",
      "--- SVM Classifier ---\n",
      "0.9906450024618415\n",
      "[[1059    2]\n",
      " [  17  953]]\n"
     ]
    }
   ],
   "source": [
    "from sklearn.svm import SVC\n",
    "\n",
    "clf_svm = SVC(random_state=0)\n",
    "clf_svm.fit(X_train, y_train)\n",
    "\n",
    "pred_svm = clf_svm.predict(X_test)\n",
    "\n",
    "print(\"\\n--- SVM Classifier ---\")\n",
    "print(accuracy_score(y_test, pred_svm))\n",
    "print(confusion_matrix(y_test, pred_svm))"
   ]
  },
  {
   "cell_type": "code",
   "execution_count": 132,
   "id": "6741e429",
   "metadata": {
    "scrolled": true
   },
   "outputs": [
    {
     "name": "stdout",
     "output_type": "stream",
     "text": [
      "\n",
      "--- Logistic Regression Classifier ---\n",
      "0.9502708025603152\n",
      "[[1018   43]\n",
      " [  58  912]]\n"
     ]
    }
   ],
   "source": [
    "clf_lr = LogisticRegression(random_state=0)\n",
    "clf_lr.fit(X_train, y_train)\n",
    "\n",
    "pred_lr = clf_lr.predict(X_test)\n",
    "\n",
    "print (\"\\n--- Logistic Regression Classifier ---\")\n",
    "print (accuracy_score(y_test, pred_lr))\n",
    "print (confusion_matrix(y_test, pred_lr))"
   ]
  },
  {
   "cell_type": "code",
   "execution_count": 133,
   "id": "23aeeb28",
   "metadata": {},
   "outputs": [
    {
     "name": "stdout",
     "output_type": "stream",
     "text": [
      "\n",
      "--- Decision Tree Classifier ---\n",
      "1.0\n",
      "[[1061    0]\n",
      " [   0  970]]\n"
     ]
    }
   ],
   "source": [
    "clf_dt = DecisionTreeClassifier(random_state=0)\n",
    "clf_dt.fit(X_train, y_train)\n",
    "\n",
    "pred_dt = clf_dt.predict(X_test)\n",
    "\n",
    "print (\"\\n--- Decision Tree Classifier ---\")\n",
    "print (accuracy_score(y_test, pred_dt))\n",
    "print (confusion_matrix(y_test, pred_dt))"
   ]
  },
  {
   "cell_type": "code",
   "execution_count": 134,
   "id": "3d6022e0",
   "metadata": {},
   "outputs": [
    {
     "name": "stdout",
     "output_type": "stream",
     "text": [
      "\n",
      "--- Radom Forest ---\n",
      "1.0\n",
      "[[1061    0]\n",
      " [   0  970]]\n"
     ]
    }
   ],
   "source": [
    "from sklearn.ensemble import RandomForestClassifier\n",
    "from sklearn.metrics import accuracy_score\n",
    "import pandas as pd\n",
    "import warnings\n",
    "warnings.filterwarnings('ignore')\n",
    "\n",
    "print (\"\\n--- Radom Forest ---\")\n",
    "rf_clf = RandomForestClassifier(random_state=0)\n",
    "rf_clf.fit(X_train, y_train)\n",
    "pred = rf_clf.predict(X_test)\n",
    "print(accuracy_score(y_test,pred))\n",
    "print (confusion_matrix(y_test, pred))"
   ]
  },
  {
   "cell_type": "code",
   "execution_count": 135,
   "id": "27a2d32b",
   "metadata": {},
   "outputs": [],
   "source": [
    "from sklearn.neighbors import KNeighborsClassifier\n",
    "from sklearn.linear_model import LogisticRegression\n",
    "from sklearn.svm import SVC\n",
    "from sklearn.neural_network import MLPClassifier\n",
    "from sklearn.tree import DecisionTreeClassifier\n",
    "from sklearn.metrics import accuracy_score\n",
    "from sklearn.metrics import confusion_matrix\n",
    "from sklearn.metrics import mean_squared_error\n",
    "from sklearn.metrics import mean_absolute_error"
   ]
  },
  {
   "cell_type": "code",
   "execution_count": 136,
   "id": "8f8e65b3",
   "metadata": {},
   "outputs": [
    {
     "name": "stdout",
     "output_type": "stream",
     "text": [
      "\n",
      "--- Logistic Regression Classifier ---\n",
      "mse: 0.223000442689437\n",
      "mae: 0.04972919743968488\n"
     ]
    }
   ],
   "source": [
    "clf_lr = LogisticRegression(random_state=0)\n",
    "clf_lr.fit(X_train, y_train)\n",
    "\n",
    "pred = clf_lr.predict(X_test)\n",
    "\n",
    "print (\"\\n--- Logistic Regression Classifier ---\")\n",
    "mse = np.sqrt(mean_squared_error(pred, y_test))\n",
    "print('mse:', mse)\n",
    "mae = mean_absolute_error(y_test, pred)\n",
    "print('mae:',mae)"
   ]
  },
  {
   "cell_type": "code",
   "execution_count": 137,
   "id": "c78313a0",
   "metadata": {},
   "outputs": [
    {
     "name": "stdout",
     "output_type": "stream",
     "text": [
      "\n",
      "--- Radom Forest ---\n",
      "mse: 0.0\n",
      "mae: 0.0\n"
     ]
    }
   ],
   "source": [
    "from sklearn.ensemble import RandomForestClassifier\n",
    "from sklearn.metrics import accuracy_score\n",
    "import pandas as pd\n",
    "import warnings\n",
    "warnings.filterwarnings('ignore')\n",
    "\n",
    "print (\"\\n--- Radom Forest ---\")\n",
    "rf_clf = RandomForestClassifier(random_state=0)\n",
    "rf_clf.fit(X_train, y_train)\n",
    "pred = rf_clf.predict(X_test)\n",
    "mse = np.sqrt(mean_squared_error(pred, y_test))\n",
    "print('mse:', mse)\n",
    "mae = mean_absolute_error(y_test, pred)\n",
    "print('mae:',mae)"
   ]
  },
  {
   "cell_type": "code",
   "execution_count": 138,
   "id": "5914286c",
   "metadata": {},
   "outputs": [
    {
     "ename": "SyntaxError",
     "evalue": "invalid syntax (3481393705.py, line 3)",
     "output_type": "error",
     "traceback": [
      "\u001b[1;36m  File \u001b[1;32m\"C:\\Users\\wgdwe\\AppData\\Local\\Temp\\ipykernel_6100\\3481393705.py\"\u001b[1;36m, line \u001b[1;32m3\u001b[0m\n\u001b[1;33m    mae = mean_absolute_error(y_test, pred)\u001b[0m\n\u001b[1;37m    ^\u001b[0m\n\u001b[1;31mSyntaxError\u001b[0m\u001b[1;31m:\u001b[0m invalid syntax\n"
     ]
    }
   ],
   "source": [
    "clf_dt = DecisionTreeClassifier(random_state=0)\n",
    "clf_dt.fit(X_train, y_trb\n",
    "mae = mean_absolute_error(y_test, pred)\n",
    "print('mae:',mae)"
   ]
  },
  {
   "cell_type": "code",
   "execution_count": 139,
   "id": "70c5c933",
   "metadata": {
    "scrolled": false
   },
   "outputs": [
    {
     "name": "stdout",
     "output_type": "stream",
     "text": [
      "\n",
      "--- SVM Classifier ---\n",
      "mse: 0.09672123623154608\n",
      "mae: 0.009354997538158542\n"
     ]
    }
   ],
   "source": [
    "from sklearn.svm import SVC\n",
    "\n",
    "clf_svm = SVC(random_state=0)\n",
    "clf_svm.fit(X_train, y_train)\n",
    "\n",
    "pred = clf_svm.predict(X_test)\n",
    "\n",
    "print(\"\\n--- SVM Classifier ---\")\n",
    "mse = np.sqrt(mean_squared_error(pred, y_test))\n",
    "print('mse:', mse)\n",
    "mae = mean_absolute_error(y_test, pred)\n",
    "print('mae:',mae)"
   ]
  },
  {
   "cell_type": "code",
   "execution_count": 146,
   "id": "9da5b067",
   "metadata": {},
   "outputs": [],
   "source": [
    "#Splitting the data into training and test test\n",
    "X = df.iloc[:,1:23].values\n",
    "y = df.iloc[:,0].values\n",
    "\n",
    "from sklearn.preprocessing import LabelEncoder\n",
    "encoder =  LabelEncoder()\n",
    "y1 = encoder.fit_transform(y)\n",
    "\n",
    "Y = pd.get_dummies(y1).values\n",
    "\n",
    "\n",
    "from sklearn.model_selection import train_test_split\n",
    "X_train,X_test, y_train,y_test = train_test_split(X,Y,test_size=0.2,random_state=0) "
   ]
  },
  {
   "cell_type": "code",
   "execution_count": 147,
   "id": "0c2e4155",
   "metadata": {},
   "outputs": [
    {
     "data": {
      "text/plain": [
       "array([[5, 2, 4, ..., 2, 3, 5],\n",
       "       [5, 2, 9, ..., 3, 2, 1],\n",
       "       [0, 2, 8, ..., 3, 2, 3],\n",
       "       ...,\n",
       "       [2, 2, 4, ..., 0, 1, 2],\n",
       "       [3, 3, 4, ..., 7, 4, 2],\n",
       "       [5, 2, 4, ..., 4, 1, 2]])"
      ]
     },
     "execution_count": 147,
     "metadata": {},
     "output_type": "execute_result"
    }
   ],
   "source": [
    "X"
   ]
  },
  {
   "cell_type": "code",
   "execution_count": 148,
   "id": "585bdb24",
   "metadata": {},
   "outputs": [
    {
     "data": {
      "text/plain": [
       "array([[0, 1],\n",
       "       [1, 0],\n",
       "       [1, 0],\n",
       "       ...,\n",
       "       [1, 0],\n",
       "       [0, 1],\n",
       "       [1, 0]], dtype=uint8)"
      ]
     },
     "execution_count": 148,
     "metadata": {},
     "output_type": "execute_result"
    }
   ],
   "source": [
    "Y"
   ]
  },
  {
   "cell_type": "code",
   "execution_count": 152,
   "id": "1989d74d",
   "metadata": {},
   "outputs": [
    {
     "name": "stdout",
     "output_type": "stream",
     "text": [
      "Model: \"sequential_9\"\n",
      "_________________________________________________________________\n",
      " Layer (type)                Output Shape              Param #   \n",
      "=================================================================\n",
      " dense_33 (Dense)            (None, 10)                230       \n",
      "                                                                 \n",
      " dense_34 (Dense)            (None, 8)                 88        \n",
      "                                                                 \n",
      " dense_35 (Dense)            (None, 6)                 54        \n",
      "                                                                 \n",
      " dense_36 (Dense)            (None, 2)                 14        \n",
      "                                                                 \n",
      "=================================================================\n",
      "Total params: 386\n",
      "Trainable params: 386\n",
      "Non-trainable params: 0\n",
      "_________________________________________________________________\n"
     ]
    }
   ],
   "source": [
    "from keras.models import Sequential\n",
    "from keras.layers import Dense\n",
    "from keras.optimizers import SGD,Adam\n",
    "\n",
    "\n",
    "model = Sequential()\n",
    "\n",
    "model.add(Dense(10,input_shape=(22,),activation='tanh'))\n",
    "model.add(Dense(8,activation='tanh'))\n",
    "model.add(Dense(6,activation='tanh'))\n",
    "model.add(Dense(2,activation='softmax'))\n",
    "\n",
    "model.compile(Adam(lr=0.04),'categorical_crossentropy',metrics=['accuracy'])\n",
    "\n",
    "model.summary()"
   ]
  },
  {
   "cell_type": "code",
   "execution_count": 153,
   "id": "de7d77f1",
   "metadata": {},
   "outputs": [
    {
     "name": "stdout",
     "output_type": "stream",
     "text": [
      "Epoch 1/100\n",
      "204/204 [==============================] - 1s 1ms/step - loss: 0.2895 - accuracy: 0.8878 - val_loss: 0.2703 - val_accuracy: 0.9151\n",
      "Epoch 2/100\n",
      "204/204 [==============================] - 0s 800us/step - loss: 0.2021 - accuracy: 0.9418 - val_loss: 0.2198 - val_accuracy: 0.9249\n",
      "Epoch 3/100\n",
      "204/204 [==============================] - 0s 806us/step - loss: 0.1867 - accuracy: 0.9489 - val_loss: 0.2535 - val_accuracy: 0.9151\n",
      "Epoch 4/100\n",
      "204/204 [==============================] - 0s 805us/step - loss: 0.1724 - accuracy: 0.9541 - val_loss: 0.1321 - val_accuracy: 0.9649\n",
      "Epoch 5/100\n",
      "204/204 [==============================] - 0s 790us/step - loss: 0.1653 - accuracy: 0.9568 - val_loss: 0.1507 - val_accuracy: 0.9612\n",
      "Epoch 6/100\n",
      "204/204 [==============================] - 0s 800us/step - loss: 0.2124 - accuracy: 0.9418 - val_loss: 0.1561 - val_accuracy: 0.9600\n",
      "Epoch 7/100\n",
      "204/204 [==============================] - 0s 800us/step - loss: 0.1614 - accuracy: 0.9571 - val_loss: 0.1275 - val_accuracy: 0.9662\n",
      "Epoch 8/100\n",
      "204/204 [==============================] - 0s 800us/step - loss: 0.1768 - accuracy: 0.9521 - val_loss: 0.1333 - val_accuracy: 0.9649\n",
      "Epoch 9/100\n",
      "204/204 [==============================] - 0s 776us/step - loss: 0.1761 - accuracy: 0.9534 - val_loss: 0.1704 - val_accuracy: 0.9575\n",
      "Epoch 10/100\n",
      "204/204 [==============================] - 0s 794us/step - loss: 0.1593 - accuracy: 0.9594 - val_loss: 0.1255 - val_accuracy: 0.9686\n",
      "Epoch 11/100\n",
      "204/204 [==============================] - 0s 826us/step - loss: 0.1569 - accuracy: 0.9591 - val_loss: 0.1375 - val_accuracy: 0.9674\n",
      "Epoch 12/100\n",
      "204/204 [==============================] - 0s 785us/step - loss: 0.1818 - accuracy: 0.9528 - val_loss: 0.1428 - val_accuracy: 0.9668\n",
      "Epoch 13/100\n",
      "204/204 [==============================] - 0s 761us/step - loss: 0.1619 - accuracy: 0.9575 - val_loss: 0.1297 - val_accuracy: 0.9692\n",
      "Epoch 14/100\n",
      "204/204 [==============================] - 0s 776us/step - loss: 0.1634 - accuracy: 0.9581 - val_loss: 0.1300 - val_accuracy: 0.9674\n",
      "Epoch 15/100\n",
      "204/204 [==============================] - 0s 770us/step - loss: 0.1692 - accuracy: 0.9577 - val_loss: 0.1313 - val_accuracy: 0.9680\n",
      "Epoch 16/100\n",
      "204/204 [==============================] - 0s 830us/step - loss: 0.1521 - accuracy: 0.9621 - val_loss: 0.1266 - val_accuracy: 0.9692\n",
      "Epoch 17/100\n",
      "204/204 [==============================] - 0s 771us/step - loss: 0.1548 - accuracy: 0.9605 - val_loss: 0.1217 - val_accuracy: 0.9717\n",
      "Epoch 18/100\n",
      "204/204 [==============================] - 0s 830us/step - loss: 0.2199 - accuracy: 0.9104 - val_loss: 0.1730 - val_accuracy: 0.9532\n",
      "Epoch 19/100\n",
      "204/204 [==============================] - 0s 776us/step - loss: 0.1929 - accuracy: 0.9429 - val_loss: 0.1997 - val_accuracy: 0.9397\n",
      "Epoch 20/100\n",
      "204/204 [==============================] - 0s 756us/step - loss: 0.2293 - accuracy: 0.9257 - val_loss: 0.1376 - val_accuracy: 0.9655\n",
      "Epoch 21/100\n",
      "204/204 [==============================] - 0s 766us/step - loss: 0.5350 - accuracy: 0.7266 - val_loss: 0.5067 - val_accuracy: 0.7323\n",
      "Epoch 22/100\n",
      "204/204 [==============================] - 0s 788us/step - loss: 0.5153 - accuracy: 0.7240 - val_loss: 0.5387 - val_accuracy: 0.7323\n",
      "Epoch 23/100\n",
      "204/204 [==============================] - 0s 766us/step - loss: 0.5159 - accuracy: 0.7264 - val_loss: 0.5466 - val_accuracy: 0.7323\n",
      "Epoch 24/100\n",
      "204/204 [==============================] - 0s 775us/step - loss: 0.5166 - accuracy: 0.7272 - val_loss: 0.5101 - val_accuracy: 0.7323\n",
      "Epoch 25/100\n",
      "204/204 [==============================] - 0s 771us/step - loss: 0.5182 - accuracy: 0.7264 - val_loss: 0.5065 - val_accuracy: 0.7323\n",
      "Epoch 26/100\n",
      "204/204 [==============================] - 0s 767us/step - loss: 0.5141 - accuracy: 0.7258 - val_loss: 0.5065 - val_accuracy: 0.7323\n",
      "Epoch 27/100\n",
      "204/204 [==============================] - 0s 776us/step - loss: 0.5111 - accuracy: 0.7303 - val_loss: 0.5100 - val_accuracy: 0.7323\n",
      "Epoch 28/100\n",
      "204/204 [==============================] - 0s 766us/step - loss: 0.5169 - accuracy: 0.7221 - val_loss: 0.5070 - val_accuracy: 0.7323\n",
      "Epoch 29/100\n",
      "204/204 [==============================] - 0s 771us/step - loss: 0.5141 - accuracy: 0.7303 - val_loss: 0.5068 - val_accuracy: 0.7323\n",
      "Epoch 30/100\n",
      "204/204 [==============================] - 0s 787us/step - loss: 0.5121 - accuracy: 0.7272 - val_loss: 0.5094 - val_accuracy: 0.7323\n",
      "Epoch 31/100\n",
      "204/204 [==============================] - 0s 786us/step - loss: 0.5126 - accuracy: 0.7249 - val_loss: 0.5075 - val_accuracy: 0.7323\n",
      "Epoch 32/100\n",
      "204/204 [==============================] - 0s 820us/step - loss: 0.5091 - accuracy: 0.7275 - val_loss: 0.5239 - val_accuracy: 0.7323\n",
      "Epoch 33/100\n",
      "204/204 [==============================] - 0s 781us/step - loss: 0.5119 - accuracy: 0.7303 - val_loss: 0.5144 - val_accuracy: 0.7323\n",
      "Epoch 34/100\n",
      "204/204 [==============================] - 0s 771us/step - loss: 0.5125 - accuracy: 0.7269 - val_loss: 0.5108 - val_accuracy: 0.7323\n",
      "Epoch 35/100\n",
      "204/204 [==============================] - 0s 800us/step - loss: 0.5217 - accuracy: 0.7164 - val_loss: 0.5683 - val_accuracy: 0.4769\n",
      "Epoch 36/100\n",
      "204/204 [==============================] - 0s 790us/step - loss: 0.5176 - accuracy: 0.7206 - val_loss: 0.5080 - val_accuracy: 0.7323\n",
      "Epoch 37/100\n",
      "204/204 [==============================] - 0s 769us/step - loss: 0.5211 - accuracy: 0.7172 - val_loss: 0.5161 - val_accuracy: 0.7323\n",
      "Epoch 38/100\n",
      "204/204 [==============================] - 0s 766us/step - loss: 0.5158 - accuracy: 0.7167 - val_loss: 0.5252 - val_accuracy: 0.7323\n",
      "Epoch 39/100\n",
      "204/204 [==============================] - 0s 766us/step - loss: 0.5171 - accuracy: 0.7207 - val_loss: 0.5063 - val_accuracy: 0.7323\n",
      "Epoch 40/100\n",
      "204/204 [==============================] - 0s 776us/step - loss: 0.5131 - accuracy: 0.7303 - val_loss: 0.5062 - val_accuracy: 0.7323\n",
      "Epoch 41/100\n",
      "204/204 [==============================] - 0s 776us/step - loss: 0.5134 - accuracy: 0.7281 - val_loss: 0.5189 - val_accuracy: 0.7323\n",
      "Epoch 42/100\n",
      "204/204 [==============================] - 0s 786us/step - loss: 0.5106 - accuracy: 0.7303 - val_loss: 0.5676 - val_accuracy: 0.4769\n",
      "Epoch 43/100\n",
      "204/204 [==============================] - 0s 771us/step - loss: 0.5194 - accuracy: 0.7203 - val_loss: 0.4957 - val_accuracy: 0.7323\n",
      "Epoch 44/100\n",
      "204/204 [==============================] - 0s 766us/step - loss: 0.5329 - accuracy: 0.7355 - val_loss: 0.5099 - val_accuracy: 0.7323\n",
      "Epoch 45/100\n",
      "204/204 [==============================] - 0s 790us/step - loss: 0.5154 - accuracy: 0.7233 - val_loss: 0.5407 - val_accuracy: 0.7323\n",
      "Epoch 46/100\n",
      "204/204 [==============================] - 0s 776us/step - loss: 0.5124 - accuracy: 0.7258 - val_loss: 0.5313 - val_accuracy: 0.7323\n",
      "Epoch 47/100\n",
      "204/204 [==============================] - 0s 766us/step - loss: 0.5126 - accuracy: 0.7303 - val_loss: 0.5086 - val_accuracy: 0.7323\n",
      "Epoch 48/100\n",
      "204/204 [==============================] - 0s 770us/step - loss: 0.5151 - accuracy: 0.7261 - val_loss: 0.5221 - val_accuracy: 0.7323\n",
      "Epoch 49/100\n",
      "204/204 [==============================] - 0s 770us/step - loss: 0.5111 - accuracy: 0.7269 - val_loss: 0.5173 - val_accuracy: 0.7323\n",
      "Epoch 50/100\n",
      "204/204 [==============================] - 0s 765us/step - loss: 0.5114 - accuracy: 0.7303 - val_loss: 0.5164 - val_accuracy: 0.7323\n",
      "Epoch 51/100\n",
      "204/204 [==============================] - 0s 759us/step - loss: 0.5117 - accuracy: 0.7303 - val_loss: 0.5221 - val_accuracy: 0.7323\n",
      "Epoch 52/100\n",
      "204/204 [==============================] - 0s 775us/step - loss: 0.5114 - accuracy: 0.7303 - val_loss: 0.5127 - val_accuracy: 0.7323\n",
      "Epoch 53/100\n",
      "204/204 [==============================] - 0s 763us/step - loss: 0.5186 - accuracy: 0.7303 - val_loss: 0.5078 - val_accuracy: 0.7323\n",
      "Epoch 54/100\n",
      "204/204 [==============================] - 0s 782us/step - loss: 0.5109 - accuracy: 0.7266 - val_loss: 0.5126 - val_accuracy: 0.7323\n",
      "Epoch 55/100\n",
      "204/204 [==============================] - 0s 841us/step - loss: 0.5131 - accuracy: 0.7257 - val_loss: 0.5209 - val_accuracy: 0.7323\n",
      "Epoch 56/100\n",
      "204/204 [==============================] - 0s 776us/step - loss: 0.5221 - accuracy: 0.7229 - val_loss: 0.5089 - val_accuracy: 0.7323\n",
      "Epoch 57/100\n",
      "204/204 [==============================] - 0s 776us/step - loss: 0.5148 - accuracy: 0.7255 - val_loss: 0.5091 - val_accuracy: 0.7323\n",
      "Epoch 58/100\n",
      "204/204 [==============================] - 0s 765us/step - loss: 0.5128 - accuracy: 0.7253 - val_loss: 0.5167 - val_accuracy: 0.7323\n",
      "Epoch 59/100\n",
      "204/204 [==============================] - 0s 778us/step - loss: 0.5125 - accuracy: 0.7303 - val_loss: 0.5450 - val_accuracy: 0.7323\n",
      "Epoch 60/100\n",
      "204/204 [==============================] - 0s 766us/step - loss: 0.5189 - accuracy: 0.7196 - val_loss: 0.5144 - val_accuracy: 0.7323\n",
      "Epoch 61/100\n",
      "204/204 [==============================] - 0s 779us/step - loss: 0.5161 - accuracy: 0.7186 - val_loss: 0.5212 - val_accuracy: 0.7323\n",
      "Epoch 62/100\n",
      "204/204 [==============================] - 0s 771us/step - loss: 0.5208 - accuracy: 0.7216 - val_loss: 0.5068 - val_accuracy: 0.7323\n",
      "Epoch 63/100\n",
      "204/204 [==============================] - 0s 770us/step - loss: 0.5119 - accuracy: 0.7303 - val_loss: 0.5375 - val_accuracy: 0.7323\n",
      "Epoch 64/100\n",
      "204/204 [==============================] - 0s 756us/step - loss: 0.5136 - accuracy: 0.7250 - val_loss: 0.5138 - val_accuracy: 0.7323\n",
      "Epoch 65/100\n",
      "204/204 [==============================] - 0s 759us/step - loss: 0.5157 - accuracy: 0.7303 - val_loss: 0.5085 - val_accuracy: 0.7323\n",
      "Epoch 66/100\n",
      "204/204 [==============================] - 0s 766us/step - loss: 0.5096 - accuracy: 0.7267 - val_loss: 0.5067 - val_accuracy: 0.7323\n",
      "Epoch 67/100\n",
      "204/204 [==============================] - 0s 751us/step - loss: 0.5140 - accuracy: 0.7264 - val_loss: 0.5117 - val_accuracy: 0.7323\n",
      "Epoch 68/100\n",
      "204/204 [==============================] - 0s 779us/step - loss: 0.5104 - accuracy: 0.7303 - val_loss: 0.5067 - val_accuracy: 0.7323\n",
      "Epoch 69/100\n",
      "204/204 [==============================] - 0s 760us/step - loss: 0.5164 - accuracy: 0.7270 - val_loss: 0.5110 - val_accuracy: 0.7323\n",
      "Epoch 70/100\n",
      "204/204 [==============================] - 0s 763us/step - loss: 0.5182 - accuracy: 0.7175 - val_loss: 0.5069 - val_accuracy: 0.7323\n",
      "Epoch 71/100\n",
      "204/204 [==============================] - 0s 763us/step - loss: 0.5124 - accuracy: 0.7246 - val_loss: 0.5124 - val_accuracy: 0.7323\n",
      "Epoch 72/100\n",
      "204/204 [==============================] - 0s 766us/step - loss: 0.5135 - accuracy: 0.7252 - val_loss: 0.5132 - val_accuracy: 0.7323\n",
      "Epoch 73/100\n",
      "204/204 [==============================] - 0s 773us/step - loss: 0.5117 - accuracy: 0.7303 - val_loss: 0.5469 - val_accuracy: 0.7323\n",
      "Epoch 74/100\n",
      "204/204 [==============================] - 0s 790us/step - loss: 0.5160 - accuracy: 0.7226 - val_loss: 0.5128 - val_accuracy: 0.7323\n",
      "Epoch 75/100\n",
      "204/204 [==============================] - 0s 781us/step - loss: 0.5124 - accuracy: 0.7263 - val_loss: 0.6018 - val_accuracy: 0.7323\n",
      "Epoch 76/100\n",
      "204/204 [==============================] - 0s 770us/step - loss: 0.5226 - accuracy: 0.7195 - val_loss: 0.5198 - val_accuracy: 0.7323\n",
      "Epoch 77/100\n",
      "204/204 [==============================] - 0s 762us/step - loss: 0.5199 - accuracy: 0.7173 - val_loss: 0.5067 - val_accuracy: 0.7323\n",
      "Epoch 78/100\n",
      "204/204 [==============================] - 0s 830us/step - loss: 0.5160 - accuracy: 0.7273 - val_loss: 0.5435 - val_accuracy: 0.7323\n",
      "Epoch 79/100\n",
      "204/204 [==============================] - 0s 766us/step - loss: 0.5170 - accuracy: 0.7260 - val_loss: 0.5067 - val_accuracy: 0.7323\n",
      "Epoch 80/100\n",
      "204/204 [==============================] - 0s 771us/step - loss: 0.5153 - accuracy: 0.7267 - val_loss: 0.5132 - val_accuracy: 0.7323\n",
      "Epoch 81/100\n",
      "204/204 [==============================] - 0s 771us/step - loss: 0.5148 - accuracy: 0.7303 - val_loss: 0.5286 - val_accuracy: 0.7323\n",
      "Epoch 82/100\n",
      "204/204 [==============================] - 0s 771us/step - loss: 0.5156 - accuracy: 0.7201 - val_loss: 0.5202 - val_accuracy: 0.7323\n",
      "Epoch 83/100\n",
      "204/204 [==============================] - 0s 771us/step - loss: 0.5139 - accuracy: 0.7303 - val_loss: 0.5156 - val_accuracy: 0.7323\n",
      "Epoch 84/100\n",
      "204/204 [==============================] - 0s 759us/step - loss: 0.5168 - accuracy: 0.7207 - val_loss: 0.5068 - val_accuracy: 0.7323\n",
      "Epoch 85/100\n",
      "204/204 [==============================] - 0s 779us/step - loss: 0.5103 - accuracy: 0.7303 - val_loss: 0.5075 - val_accuracy: 0.7323\n",
      "Epoch 86/100\n",
      "204/204 [==============================] - 0s 764us/step - loss: 0.5162 - accuracy: 0.7272 - val_loss: 0.5076 - val_accuracy: 0.7323\n",
      "Epoch 87/100\n",
      "204/204 [==============================] - 0s 776us/step - loss: 0.5172 - accuracy: 0.7180 - val_loss: 0.5185 - val_accuracy: 0.7323\n",
      "Epoch 88/100\n",
      "204/204 [==============================] - 0s 761us/step - loss: 0.5111 - accuracy: 0.7303 - val_loss: 0.5068 - val_accuracy: 0.7323\n",
      "Epoch 89/100\n",
      "204/204 [==============================] - 0s 768us/step - loss: 0.5175 - accuracy: 0.7229 - val_loss: 0.5138 - val_accuracy: 0.7323\n",
      "Epoch 90/100\n",
      "204/204 [==============================] - 0s 767us/step - loss: 0.5124 - accuracy: 0.7303 - val_loss: 0.5080 - val_accuracy: 0.7323\n",
      "Epoch 91/100\n",
      "204/204 [==============================] - 0s 833us/step - loss: 0.5110 - accuracy: 0.7278 - val_loss: 0.5077 - val_accuracy: 0.7323\n",
      "Epoch 92/100\n",
      "204/204 [==============================] - 0s 761us/step - loss: 0.5111 - accuracy: 0.7303 - val_loss: 0.5122 - val_accuracy: 0.7323\n",
      "Epoch 93/100\n",
      "204/204 [==============================] - 0s 765us/step - loss: 0.5121 - accuracy: 0.7303 - val_loss: 0.5071 - val_accuracy: 0.7323\n",
      "Epoch 94/100\n",
      "204/204 [==============================] - 0s 774us/step - loss: 0.5113 - accuracy: 0.7303 - val_loss: 0.5087 - val_accuracy: 0.7323\n",
      "Epoch 95/100\n",
      "204/204 [==============================] - 0s 761us/step - loss: 0.5153 - accuracy: 0.7249 - val_loss: 0.5067 - val_accuracy: 0.7323\n",
      "Epoch 96/100\n",
      "204/204 [==============================] - 0s 768us/step - loss: 0.5138 - accuracy: 0.7278 - val_loss: 0.5076 - val_accuracy: 0.7323\n",
      "Epoch 97/100\n",
      "204/204 [==============================] - 0s 759us/step - loss: 0.5146 - accuracy: 0.7264 - val_loss: 0.5173 - val_accuracy: 0.7323\n",
      "Epoch 98/100\n",
      "204/204 [==============================] - 0s 761us/step - loss: 0.5155 - accuracy: 0.7263 - val_loss: 0.5135 - val_accuracy: 0.7323\n",
      "Epoch 99/100\n",
      "204/204 [==============================] - 0s 781us/step - loss: 0.5098 - accuracy: 0.7269 - val_loss: 0.5093 - val_accuracy: 0.7323\n",
      "Epoch 100/100\n",
      "204/204 [==============================] - 0s 772us/step - loss: 0.5161 - accuracy: 0.7246 - val_loss: 0.5089 - val_accuracy: 0.7323\n",
      "51/51 [==============================] - 0s 478us/step\n"
     ]
    }
   ],
   "source": [
    "model_history=model.fit(x=X_train, y=y_train, epochs=100, batch_size=32,validation_data= (X_test,y_test))\n",
    "y_pred = model.predict(X_test)\n",
    "\n",
    "y_test_class = np.argmax(y_test,axis=1)\n",
    "y_pred_class = np.argmax(y_pred,axis=1)"
   ]
  },
  {
   "cell_type": "code",
   "execution_count": 154,
   "id": "30b21a66",
   "metadata": {},
   "outputs": [
    {
     "data": {
      "image/png": "[encoded data removed]",
      "text/plain": [
       "<Figure size 640x480 with 1 Axes>"
      ]
     },
     "metadata": {},
     "output_type": "display_data"
    }
   ],
   "source": [
    "import matplotlib.pyplot as plt\n",
    "import seaborn as sns\n",
    "\n",
    "loss =model_history.history['loss']\n",
    "val_loss =model_history.history['val_loss']\n",
    "epochs = range(1, len(loss) + 1)\n",
    "plt.plot(epochs, loss, 'y', label='Training loss')\n",
    "plt.plot(epochs, val_loss, 'r', label='Validation loss')\n",
    "plt.title('Training and validation loss')\n",
    "plt.xlabel('Epochs')\n",
    "plt.ylabel('Loss')\n",
    "plt.legend()\n",
    "plt.show()"
   ]
  },
  {
   "cell_type": "code",
   "execution_count": 155,
   "id": "aa0bd04f",
   "metadata": {},
   "outputs": [
    {
     "data": {
      "image/png": "[encoded data removed]",
      "text/plain": [
       "<Figure size 640x480 with 1 Axes>"
      ]
     },
     "metadata": {},
     "output_type": "display_data"
    }
   ],
   "source": [
    "acc =model_history.history['accuracy']\n",
    "val_acc =model_history.history['val_accuracy']\n",
    "plt.plot(epochs, acc, 'y', label='Training acc')\n",
    "plt.plot(epochs, val_acc, 'r', label='Validation acc')\n",
    "plt.title('Training and validation accuracy')\n",
    "plt.xlabel('Epochs')\n",
    "plt.ylabel('Accuracy')\n",
    "plt.legend()\n",
    "plt.show()"
   ]
  },
  {
   "cell_type": "code",
   "execution_count": 156,
   "id": "a2db5f8a",
   "metadata": {},
   "outputs": [
    {
     "name": "stdout",
     "output_type": "stream",
     "text": [
      "              precision    recall  f1-score   support\n",
      "\n",
      "           0       0.66      1.00      0.80       852\n",
      "           1       1.00      0.44      0.61       773\n",
      "\n",
      "    accuracy                           0.73      1625\n",
      "   macro avg       0.83      0.72      0.70      1625\n",
      "weighted avg       0.82      0.73      0.71      1625\n",
      "\n",
      "[[852   0]\n",
      " [435 338]]\n"
     ]
    }
   ],
   "source": [
    "from sklearn.metrics import classification_report,confusion_matrix\n",
    "print(classification_report(y_test_class,y_pred_class))\n",
    "print(confusion_matrix(y_test_class,y_pred_class))"
   ]
  },
  {
   "cell_type": "code",
   "execution_count": 158,
   "id": "43317cd0",
   "metadata": {},
   "outputs": [
    {
     "name": "stdout",
     "output_type": "stream",
     "text": [
      "51/51 [==============================] - 0s 558us/step - loss: 0.5089 - accuracy: 0.7323\n"
     ]
    },
    {
     "data": {
      "text/plain": [
       "[0.5089107751846313, 0.7323076725006104]"
      ]
     },
     "execution_count": 158,
     "metadata": {},
     "output_type": "execute_result"
    }
   ],
   "source": [
    "model.evaluate(X_test, y_test)"
   ]
  },
  {
   "cell_type": "code",
   "execution_count": null,
   "id": "6e394d3a",
   "metadata": {},
   "outputs": [],
   "source": []
  }
 ],
 "metadata": {
  "kernelspec": {
   "display_name": "Python 3 (ipykernel)",
   "language": "python",
   "name": "python3"
  },
  "language_info": {
   "codemirror_mode": {
    "name": "ipython",
    "version": 3
   },
   "file_extension": ".py",
   "mimetype": "text/x-python",
   "name": "python",
   "nbconvert_exporter": "python",
   "pygments_lexer": "ipython3",
   "version": "3.9.13"
  }
 },
 "nbformat": 4,
 "nbformat_minor": 5
}
