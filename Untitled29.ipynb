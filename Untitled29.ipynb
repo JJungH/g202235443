{
 "cells": [
  {
   "cell_type": "code",
   "execution_count": 18,
   "id": "ae87ea5a",
   "metadata": {},
   "outputs": [
    {
     "data": {
      "text/html": [
       "<div>\n",
       "<style scoped>\n",
       "    .dataframe tbody tr th:only-of-type {\n",
       "        vertical-align: middle;\n",
       "    }\n",
       "\n",
       "    .dataframe tbody tr th {\n",
       "        vertical-align: top;\n",
       "    }\n",
       "\n",
       "    .dataframe thead th {\n",
       "        text-align: right;\n",
       "    }\n",
       "</style>\n",
       "<table border=\"1\" class=\"dataframe\">\n",
       "  <thead>\n",
       "    <tr style=\"text-align: right;\">\n",
       "      <th></th>\n",
       "      <th>vhigh</th>\n",
       "      <th>vhigh.1</th>\n",
       "      <th>2</th>\n",
       "      <th>2.1</th>\n",
       "      <th>small</th>\n",
       "      <th>low</th>\n",
       "      <th>unacc</th>\n",
       "    </tr>\n",
       "  </thead>\n",
       "  <tbody>\n",
       "    <tr>\n",
       "      <th>0</th>\n",
       "      <td>vhigh</td>\n",
       "      <td>vhigh</td>\n",
       "      <td>2</td>\n",
       "      <td>2</td>\n",
       "      <td>small</td>\n",
       "      <td>med</td>\n",
       "      <td>unacc</td>\n",
       "    </tr>\n",
       "    <tr>\n",
       "      <th>1</th>\n",
       "      <td>vhigh</td>\n",
       "      <td>vhigh</td>\n",
       "      <td>2</td>\n",
       "      <td>2</td>\n",
       "      <td>small</td>\n",
       "      <td>high</td>\n",
       "      <td>unacc</td>\n",
       "    </tr>\n",
       "    <tr>\n",
       "      <th>2</th>\n",
       "      <td>vhigh</td>\n",
       "      <td>vhigh</td>\n",
       "      <td>2</td>\n",
       "      <td>2</td>\n",
       "      <td>med</td>\n",
       "      <td>low</td>\n",
       "      <td>unacc</td>\n",
       "    </tr>\n",
       "    <tr>\n",
       "      <th>3</th>\n",
       "      <td>vhigh</td>\n",
       "      <td>vhigh</td>\n",
       "      <td>2</td>\n",
       "      <td>2</td>\n",
       "      <td>med</td>\n",
       "      <td>med</td>\n",
       "      <td>unacc</td>\n",
       "    </tr>\n",
       "    <tr>\n",
       "      <th>4</th>\n",
       "      <td>vhigh</td>\n",
       "      <td>vhigh</td>\n",
       "      <td>2</td>\n",
       "      <td>2</td>\n",
       "      <td>med</td>\n",
       "      <td>high</td>\n",
       "      <td>unacc</td>\n",
       "    </tr>\n",
       "  </tbody>\n",
       "</table>\n",
       "</div>"
      ],
      "text/plain": [
       "   vhigh vhigh.1  2 2.1  small   low  unacc\n",
       "0  vhigh   vhigh  2   2  small   med  unacc\n",
       "1  vhigh   vhigh  2   2  small  high  unacc\n",
       "2  vhigh   vhigh  2   2    med   low  unacc\n",
       "3  vhigh   vhigh  2   2    med   med  unacc\n",
       "4  vhigh   vhigh  2   2    med  high  unacc"
      ]
     },
     "execution_count": 18,
     "metadata": {},
     "output_type": "execute_result"
    }
   ],
   "source": [
    "import matplotlib.pyplot as plt\n",
    "import numpy as np\n",
    "import pandas as pd\n",
    "import seaborn as sns\n",
    "from sklearn.model_selection import train_test_split\n",
    "from sklearn.linear_model import LinearRegression\n",
    "from sklearn.metrics import mean_squared_error, r2_score\n",
    "from sklearn import metrics\n",
    "import tensorflow as tf\n",
    "from tensorflow import keras\n",
    "from tensorflow.keras import layers\n",
    "from sklearn.preprocessing import LabelEncoder\n",
    "\n",
    "\n",
    "df = pd.read_csv(r\"C:\\Users\\wgdwe\\OneDrive\\바탕 화면\\car.data.csv\")\n",
    "\n",
    "df.head()\n"
   ]
  },
  {
   "cell_type": "code",
   "execution_count": 19,
   "id": "2be0dca6",
   "metadata": {
    "scrolled": true
   },
   "outputs": [
    {
     "data": {
      "text/plain": [
       "vhigh      0\n",
       "vhigh.1    0\n",
       "2          0\n",
       "2.1        0\n",
       "small      0\n",
       "low        0\n",
       "unacc      0\n",
       "dtype: int64"
      ]
     },
     "execution_count": 19,
     "metadata": {},
     "output_type": "execute_result"
    }
   ],
   "source": [
    "df.isnull().sum()"
   ]
  },
  {
   "cell_type": "code",
   "execution_count": 20,
   "id": "d16d5851",
   "metadata": {
    "scrolled": true
   },
   "outputs": [
    {
     "data": {
      "text/plain": [
       "unacc    1209\n",
       "acc       384\n",
       "good       69\n",
       "vgood      65\n",
       "Name: unacc, dtype: int64"
      ]
     },
     "execution_count": 20,
     "metadata": {},
     "output_type": "execute_result"
    }
   ],
   "source": [
    "df[\"unacc\"].value_counts()"
   ]
  },
  {
   "cell_type": "code",
   "execution_count": 21,
   "id": "233631e2",
   "metadata": {
    "scrolled": true
   },
   "outputs": [
    {
     "data": {
      "text/html": [
       "<div>\n",
       "<style scoped>\n",
       "    .dataframe tbody tr th:only-of-type {\n",
       "        vertical-align: middle;\n",
       "    }\n",
       "\n",
       "    .dataframe tbody tr th {\n",
       "        vertical-align: top;\n",
       "    }\n",
       "\n",
       "    .dataframe thead th {\n",
       "        text-align: right;\n",
       "    }\n",
       "</style>\n",
       "<table border=\"1\" class=\"dataframe\">\n",
       "  <thead>\n",
       "    <tr style=\"text-align: right;\">\n",
       "      <th></th>\n",
       "      <th>vhigh</th>\n",
       "      <th>vhigh.1</th>\n",
       "      <th>2</th>\n",
       "      <th>2.1</th>\n",
       "      <th>small</th>\n",
       "      <th>low</th>\n",
       "      <th>unacc</th>\n",
       "    </tr>\n",
       "  </thead>\n",
       "  <tbody>\n",
       "    <tr>\n",
       "      <th>0</th>\n",
       "      <td>3</td>\n",
       "      <td>3</td>\n",
       "      <td>0</td>\n",
       "      <td>0</td>\n",
       "      <td>2</td>\n",
       "      <td>2</td>\n",
       "      <td>2</td>\n",
       "    </tr>\n",
       "    <tr>\n",
       "      <th>1</th>\n",
       "      <td>3</td>\n",
       "      <td>3</td>\n",
       "      <td>0</td>\n",
       "      <td>0</td>\n",
       "      <td>2</td>\n",
       "      <td>0</td>\n",
       "      <td>2</td>\n",
       "    </tr>\n",
       "    <tr>\n",
       "      <th>2</th>\n",
       "      <td>3</td>\n",
       "      <td>3</td>\n",
       "      <td>0</td>\n",
       "      <td>0</td>\n",
       "      <td>1</td>\n",
       "      <td>1</td>\n",
       "      <td>2</td>\n",
       "    </tr>\n",
       "    <tr>\n",
       "      <th>3</th>\n",
       "      <td>3</td>\n",
       "      <td>3</td>\n",
       "      <td>0</td>\n",
       "      <td>0</td>\n",
       "      <td>1</td>\n",
       "      <td>2</td>\n",
       "      <td>2</td>\n",
       "    </tr>\n",
       "    <tr>\n",
       "      <th>4</th>\n",
       "      <td>3</td>\n",
       "      <td>3</td>\n",
       "      <td>0</td>\n",
       "      <td>0</td>\n",
       "      <td>1</td>\n",
       "      <td>0</td>\n",
       "      <td>2</td>\n",
       "    </tr>\n",
       "  </tbody>\n",
       "</table>\n",
       "</div>"
      ],
      "text/plain": [
       "   vhigh  vhigh.1  2  2.1  small  low  unacc\n",
       "0      3        3  0    0      2    2      2\n",
       "1      3        3  0    0      2    0      2\n",
       "2      3        3  0    0      1    1      2\n",
       "3      3        3  0    0      1    2      2\n",
       "4      3        3  0    0      1    0      2"
      ]
     },
     "execution_count": 21,
     "metadata": {},
     "output_type": "execute_result"
    }
   ],
   "source": [
    "le = LabelEncoder()\n",
    "for i in df.columns:\n",
    "    df[i] = le.fit_transform(df[i])\n",
    "    \n",
    "df.head()"
   ]
  },
  {
   "cell_type": "code",
   "execution_count": 22,
   "id": "730900fd",
   "metadata": {},
   "outputs": [],
   "source": [
    "X = df.drop(\"unacc\", axis=1)\n",
    "y=df[\"unacc\"]"
   ]
  },
  {
   "cell_type": "code",
   "execution_count": 23,
   "id": "07c547d9",
   "metadata": {},
   "outputs": [],
   "source": [
    "from keras.utils import to_categorical\n",
    "\n",
    "# 원-핫 인코딩\n",
    "y = to_categorical(y)"
   ]
  },
  {
   "cell_type": "code",
   "execution_count": 24,
   "id": "11d70105",
   "metadata": {},
   "outputs": [
    {
     "data": {
      "text/plain": [
       "array([[0., 0., 1., 0.],\n",
       "       [0., 0., 1., 0.],\n",
       "       [0., 0., 1., 0.],\n",
       "       ...,\n",
       "       [0., 0., 1., 0.],\n",
       "       [0., 1., 0., 0.],\n",
       "       [0., 0., 0., 1.]], dtype=float32)"
      ]
     },
     "execution_count": 24,
     "metadata": {},
     "output_type": "execute_result"
    }
   ],
   "source": [
    "y"
   ]
  },
  {
   "cell_type": "code",
   "execution_count": 25,
   "id": "575d0364",
   "metadata": {},
   "outputs": [],
   "source": [
    "X_train, X_test, y_train, y_test = train_test_split(X,y, test_size=0.2, random_state=0)"
   ]
  },
  {
   "cell_type": "code",
   "execution_count": 26,
   "id": "b3c09016",
   "metadata": {},
   "outputs": [
    {
     "name": "stdout",
     "output_type": "stream",
     "text": [
      "X train : (1381, 6)\n",
      "y train : (1381, 4)\n",
      "X test : (346, 6)\n",
      "y test : (346, 4)\n"
     ]
    }
   ],
   "source": [
    "print(\"X train :\", X_train.shape)\n",
    "print(\"y train :\", y_train.shape)\n",
    "print(\"X test :\", X_test.shape)\n",
    "print(\"y test :\", y_test.shape)"
   ]
  },
  {
   "cell_type": "code",
   "execution_count": 27,
   "id": "55674e03",
   "metadata": {
    "scrolled": false
   },
   "outputs": [
    {
     "name": "stdout",
     "output_type": "stream",
     "text": [
      "Model: \"sequential_1\"\n",
      "_________________________________________________________________\n",
      " Layer (type)                Output Shape              Param #   \n",
      "=================================================================\n",
      " dense_4 (Dense)             (None, 40)                280       \n",
      "                                                                 \n",
      " dense_5 (Dense)             (None, 30)                1230      \n",
      "                                                                 \n",
      " dense_6 (Dense)             (None, 20)                620       \n",
      "                                                                 \n",
      " dense_7 (Dense)             (None, 4)                 84        \n",
      "                                                                 \n",
      "=================================================================\n",
      "Total params: 2,214\n",
      "Trainable params: 2,214\n",
      "Non-trainable params: 0\n",
      "_________________________________________________________________\n"
     ]
    },
    {
     "name": "stderr",
     "output_type": "stream",
     "text": [
      "C:\\dd\\lib\\site-packages\\keras\\optimizers\\optimizer_v2\\adam.py:114: UserWarning: The `lr` argument is deprecated, use `learning_rate` instead.\n",
      "  super().__init__(name, **kwargs)\n"
     ]
    }
   ],
   "source": [
    "from keras.models import Sequential\n",
    "from keras.layers import Dense\n",
    "from keras.optimizers import SGD,Adam\n",
    "\n",
    "\n",
    "model = Sequential()\n",
    "\n",
    "model.add(Dense(40,input_shape=(6,),activation='relu'))\n",
    "model.add(Dense(30,activation='relu'))\n",
    "model.add(Dense(20,activation='relu'))\n",
    "model.add(Dense(4,activation='softmax'))\n",
    "\n",
    "model.compile(Adam(lr=0.04),'binary_crossentropy',metrics=['accuracy'])\n",
    "\n",
    "model.summary()"
   ]
  },
  {
   "cell_type": "code",
   "execution_count": 28,
   "id": "bf841595",
   "metadata": {},
   "outputs": [
    {
     "name": "stdout",
     "output_type": "stream",
     "text": [
      "Epoch 1/100\n",
      "461/461 [==============================] - 1s 994us/step - loss: 0.3356 - accuracy: 0.6988 - val_loss: 0.3090 - val_accuracy: 0.6908\n",
      "Epoch 2/100\n",
      "461/461 [==============================] - 0s 821us/step - loss: 0.3052 - accuracy: 0.7009 - val_loss: 0.3073 - val_accuracy: 0.6908\n",
      "Epoch 3/100\n",
      "461/461 [==============================] - 0s 802us/step - loss: 0.3277 - accuracy: 0.7009 - val_loss: 0.3595 - val_accuracy: 0.6908\n",
      "Epoch 4/100\n",
      "461/461 [==============================] - 0s 817us/step - loss: 0.3108 - accuracy: 0.7017 - val_loss: 0.3061 - val_accuracy: 0.6908\n",
      "Epoch 5/100\n",
      "461/461 [==============================] - 0s 799us/step - loss: 0.2989 - accuracy: 0.7024 - val_loss: 0.3064 - val_accuracy: 0.6908\n",
      "Epoch 6/100\n",
      "461/461 [==============================] - 0s 812us/step - loss: 0.2941 - accuracy: 0.7024 - val_loss: 0.3051 - val_accuracy: 0.6908\n",
      "Epoch 7/100\n",
      "461/461 [==============================] - 0s 802us/step - loss: 0.2938 - accuracy: 0.7024 - val_loss: 0.3043 - val_accuracy: 0.6908\n",
      "Epoch 8/100\n",
      "461/461 [==============================] - 0s 797us/step - loss: 0.2942 - accuracy: 0.7024 - val_loss: 0.3108 - val_accuracy: 0.6908\n",
      "Epoch 9/100\n",
      "461/461 [==============================] - 0s 804us/step - loss: 0.2952 - accuracy: 0.7024 - val_loss: 0.3087 - val_accuracy: 0.6908\n",
      "Epoch 10/100\n",
      "461/461 [==============================] - 0s 806us/step - loss: 0.2942 - accuracy: 0.7024 - val_loss: 0.3056 - val_accuracy: 0.6908\n",
      "Epoch 11/100\n",
      "461/461 [==============================] - 0s 826us/step - loss: 0.2943 - accuracy: 0.7024 - val_loss: 0.3057 - val_accuracy: 0.6908\n",
      "Epoch 12/100\n",
      "461/461 [==============================] - 0s 804us/step - loss: 0.2936 - accuracy: 0.7024 - val_loss: 0.3050 - val_accuracy: 0.6908\n",
      "Epoch 13/100\n",
      "461/461 [==============================] - 0s 815us/step - loss: 0.2930 - accuracy: 0.7024 - val_loss: 0.3057 - val_accuracy: 0.6908\n",
      "Epoch 14/100\n",
      "461/461 [==============================] - 0s 821us/step - loss: 0.2940 - accuracy: 0.7024 - val_loss: 0.3077 - val_accuracy: 0.6908\n",
      "Epoch 15/100\n",
      "461/461 [==============================] - 0s 821us/step - loss: 0.2949 - accuracy: 0.6995 - val_loss: 0.3058 - val_accuracy: 0.6908\n",
      "Epoch 16/100\n",
      "461/461 [==============================] - 0s 817us/step - loss: 0.2940 - accuracy: 0.7024 - val_loss: 0.3047 - val_accuracy: 0.6908\n",
      "Epoch 17/100\n",
      "461/461 [==============================] - 0s 789us/step - loss: 0.2944 - accuracy: 0.7024 - val_loss: 0.3058 - val_accuracy: 0.6908\n",
      "Epoch 18/100\n",
      "461/461 [==============================] - 0s 791us/step - loss: 0.2949 - accuracy: 0.7024 - val_loss: 0.3057 - val_accuracy: 0.6908\n",
      "Epoch 19/100\n",
      "461/461 [==============================] - 0s 799us/step - loss: 0.2935 - accuracy: 0.7024 - val_loss: 0.3090 - val_accuracy: 0.6908\n",
      "Epoch 20/100\n",
      "461/461 [==============================] - 0s 825us/step - loss: 0.2936 - accuracy: 0.7024 - val_loss: 0.3085 - val_accuracy: 0.6908\n",
      "Epoch 21/100\n",
      "461/461 [==============================] - 0s 841us/step - loss: 0.2945 - accuracy: 0.6980 - val_loss: 0.3071 - val_accuracy: 0.6908\n",
      "Epoch 22/100\n",
      "461/461 [==============================] - 0s 856us/step - loss: 0.2950 - accuracy: 0.7024 - val_loss: 0.3049 - val_accuracy: 0.6908\n",
      "Epoch 23/100\n",
      "461/461 [==============================] - 0s 895us/step - loss: 0.2943 - accuracy: 0.7024 - val_loss: 0.3050 - val_accuracy: 0.6908\n",
      "Epoch 24/100\n",
      "461/461 [==============================] - 0s 825us/step - loss: 0.2948 - accuracy: 0.7024 - val_loss: 0.3075 - val_accuracy: 0.6908\n",
      "Epoch 25/100\n",
      "461/461 [==============================] - 0s 843us/step - loss: 0.2952 - accuracy: 0.7024 - val_loss: 0.3042 - val_accuracy: 0.6908\n",
      "Epoch 26/100\n",
      "461/461 [==============================] - 0s 823us/step - loss: 0.2937 - accuracy: 0.7024 - val_loss: 0.3043 - val_accuracy: 0.6908\n",
      "Epoch 27/100\n",
      "461/461 [==============================] - 0s 800us/step - loss: 0.2950 - accuracy: 0.7024 - val_loss: 0.3053 - val_accuracy: 0.6908\n",
      "Epoch 28/100\n",
      "461/461 [==============================] - 0s 815us/step - loss: 0.2938 - accuracy: 0.7024 - val_loss: 0.3100 - val_accuracy: 0.6908\n",
      "Epoch 29/100\n",
      "461/461 [==============================] - 0s 792us/step - loss: 0.2950 - accuracy: 0.7024 - val_loss: 0.3046 - val_accuracy: 0.6908\n",
      "Epoch 30/100\n",
      "461/461 [==============================] - 0s 806us/step - loss: 0.2940 - accuracy: 0.7024 - val_loss: 0.3067 - val_accuracy: 0.6908\n",
      "Epoch 31/100\n",
      "461/461 [==============================] - 0s 827us/step - loss: 0.2943 - accuracy: 0.7024 - val_loss: 0.3054 - val_accuracy: 0.6908\n",
      "Epoch 32/100\n",
      "461/461 [==============================] - 0s 785us/step - loss: 0.2939 - accuracy: 0.7024 - val_loss: 0.3066 - val_accuracy: 0.6908\n",
      "Epoch 33/100\n",
      "461/461 [==============================] - 0s 821us/step - loss: 0.2943 - accuracy: 0.7024 - val_loss: 0.3064 - val_accuracy: 0.6908\n",
      "Epoch 34/100\n",
      "461/461 [==============================] - 0s 834us/step - loss: 0.2946 - accuracy: 0.7024 - val_loss: 0.3048 - val_accuracy: 0.6908\n",
      "Epoch 35/100\n",
      "461/461 [==============================] - 0s 806us/step - loss: 0.2949 - accuracy: 0.7024 - val_loss: 0.3045 - val_accuracy: 0.6908\n",
      "Epoch 36/100\n",
      "461/461 [==============================] - 0s 790us/step - loss: 0.2943 - accuracy: 0.7024 - val_loss: 0.3065 - val_accuracy: 0.6908\n",
      "Epoch 37/100\n",
      "461/461 [==============================] - 0s 801us/step - loss: 0.2945 - accuracy: 0.7024 - val_loss: 0.3060 - val_accuracy: 0.6908\n",
      "Epoch 38/100\n",
      "461/461 [==============================] - 0s 798us/step - loss: 0.2946 - accuracy: 0.7024 - val_loss: 0.3056 - val_accuracy: 0.6908\n",
      "Epoch 39/100\n",
      "461/461 [==============================] - 0s 792us/step - loss: 0.2945 - accuracy: 0.7024 - val_loss: 0.3046 - val_accuracy: 0.6908\n",
      "Epoch 40/100\n",
      "461/461 [==============================] - 0s 797us/step - loss: 0.2946 - accuracy: 0.7024 - val_loss: 0.3044 - val_accuracy: 0.6908\n",
      "Epoch 41/100\n",
      "461/461 [==============================] - 0s 806us/step - loss: 0.2954 - accuracy: 0.7024 - val_loss: 0.3058 - val_accuracy: 0.6908\n",
      "Epoch 42/100\n",
      "461/461 [==============================] - 0s 799us/step - loss: 0.2949 - accuracy: 0.7024 - val_loss: 0.3105 - val_accuracy: 0.6908\n",
      "Epoch 43/100\n",
      "461/461 [==============================] - 0s 804us/step - loss: 0.2945 - accuracy: 0.7024 - val_loss: 0.3060 - val_accuracy: 0.6908\n",
      "Epoch 44/100\n",
      "461/461 [==============================] - 0s 797us/step - loss: 0.2948 - accuracy: 0.7024 - val_loss: 0.3043 - val_accuracy: 0.6908\n",
      "Epoch 45/100\n",
      "461/461 [==============================] - 0s 799us/step - loss: 0.2941 - accuracy: 0.7024 - val_loss: 0.3052 - val_accuracy: 0.6908\n",
      "Epoch 46/100\n",
      "461/461 [==============================] - 0s 830us/step - loss: 0.2946 - accuracy: 0.7024 - val_loss: 0.3044 - val_accuracy: 0.6908\n",
      "Epoch 47/100\n",
      "461/461 [==============================] - 0s 836us/step - loss: 0.2944 - accuracy: 0.7024 - val_loss: 0.3047 - val_accuracy: 0.6908\n",
      "Epoch 48/100\n",
      "461/461 [==============================] - 0s 867us/step - loss: 0.2947 - accuracy: 0.7024 - val_loss: 0.3056 - val_accuracy: 0.6908\n",
      "Epoch 49/100\n",
      "461/461 [==============================] - 0s 910us/step - loss: 0.2946 - accuracy: 0.7024 - val_loss: 0.3058 - val_accuracy: 0.6908\n",
      "Epoch 50/100\n",
      "461/461 [==============================] - 0s 867us/step - loss: 0.2940 - accuracy: 0.7024 - val_loss: 0.3046 - val_accuracy: 0.6908\n",
      "Epoch 51/100\n",
      "461/461 [==============================] - 0s 862us/step - loss: 0.2939 - accuracy: 0.7024 - val_loss: 0.3051 - val_accuracy: 0.6908\n",
      "Epoch 52/100\n",
      "461/461 [==============================] - 0s 838us/step - loss: 0.2938 - accuracy: 0.7024 - val_loss: 0.3070 - val_accuracy: 0.6908\n",
      "Epoch 53/100\n",
      "461/461 [==============================] - 0s 815us/step - loss: 0.2955 - accuracy: 0.6944 - val_loss: 0.3051 - val_accuracy: 0.6908\n",
      "Epoch 54/100\n",
      "461/461 [==============================] - 0s 810us/step - loss: 0.2941 - accuracy: 0.7024 - val_loss: 0.3053 - val_accuracy: 0.6908\n",
      "Epoch 55/100\n",
      "461/461 [==============================] - 0s 810us/step - loss: 0.2943 - accuracy: 0.7024 - val_loss: 0.3048 - val_accuracy: 0.6908\n",
      "Epoch 56/100\n",
      "461/461 [==============================] - 0s 802us/step - loss: 0.2944 - accuracy: 0.7024 - val_loss: 0.3052 - val_accuracy: 0.6908\n",
      "Epoch 57/100\n",
      "461/461 [==============================] - 0s 804us/step - loss: 0.2944 - accuracy: 0.7024 - val_loss: 0.3073 - val_accuracy: 0.6908\n",
      "Epoch 58/100\n",
      "461/461 [==============================] - 0s 817us/step - loss: 0.2947 - accuracy: 0.7024 - val_loss: 0.3059 - val_accuracy: 0.6908\n",
      "Epoch 59/100\n",
      "461/461 [==============================] - 0s 821us/step - loss: 0.2952 - accuracy: 0.7024 - val_loss: 0.3056 - val_accuracy: 0.6908\n",
      "Epoch 60/100\n",
      "461/461 [==============================] - 0s 813us/step - loss: 0.2944 - accuracy: 0.7024 - val_loss: 0.3068 - val_accuracy: 0.6908\n",
      "Epoch 61/100\n",
      "461/461 [==============================] - 0s 815us/step - loss: 0.2946 - accuracy: 0.7024 - val_loss: 0.3059 - val_accuracy: 0.6908\n",
      "Epoch 62/100\n",
      "461/461 [==============================] - 0s 804us/step - loss: 0.2947 - accuracy: 0.7024 - val_loss: 0.3061 - val_accuracy: 0.6908\n",
      "Epoch 63/100\n",
      "461/461 [==============================] - 0s 845us/step - loss: 0.2944 - accuracy: 0.7024 - val_loss: 0.3064 - val_accuracy: 0.6908\n",
      "Epoch 64/100\n",
      "461/461 [==============================] - 0s 830us/step - loss: 0.2927 - accuracy: 0.6988 - val_loss: 0.3106 - val_accuracy: 0.6908\n",
      "Epoch 65/100\n",
      "461/461 [==============================] - 0s 893us/step - loss: 0.2949 - accuracy: 0.7024 - val_loss: 0.3055 - val_accuracy: 0.6908\n",
      "Epoch 66/100\n",
      "461/461 [==============================] - 0s 865us/step - loss: 0.2953 - accuracy: 0.7024 - val_loss: 0.3045 - val_accuracy: 0.6908\n",
      "Epoch 67/100\n",
      "461/461 [==============================] - 0s 832us/step - loss: 0.2944 - accuracy: 0.7024 - val_loss: 0.3051 - val_accuracy: 0.6908\n",
      "Epoch 68/100\n",
      "461/461 [==============================] - 0s 847us/step - loss: 0.2935 - accuracy: 0.7024 - val_loss: 0.3057 - val_accuracy: 0.6908\n",
      "Epoch 69/100\n",
      "461/461 [==============================] - 0s 839us/step - loss: 0.2946 - accuracy: 0.7024 - val_loss: 0.3045 - val_accuracy: 0.6908\n",
      "Epoch 70/100\n",
      "461/461 [==============================] - 0s 810us/step - loss: 0.2946 - accuracy: 0.7024 - val_loss: 0.3058 - val_accuracy: 0.6908\n",
      "Epoch 71/100\n",
      "461/461 [==============================] - 0s 818us/step - loss: 0.2942 - accuracy: 0.7024 - val_loss: 0.3047 - val_accuracy: 0.6908\n",
      "Epoch 72/100\n",
      "461/461 [==============================] - 0s 799us/step - loss: 0.2942 - accuracy: 0.7024 - val_loss: 0.3064 - val_accuracy: 0.6908\n",
      "Epoch 73/100\n",
      "461/461 [==============================] - 0s 807us/step - loss: 0.2947 - accuracy: 0.7024 - val_loss: 0.3051 - val_accuracy: 0.6908\n",
      "Epoch 74/100\n",
      "461/461 [==============================] - 0s 813us/step - loss: 0.2946 - accuracy: 0.7024 - val_loss: 0.3059 - val_accuracy: 0.6908\n",
      "Epoch 75/100\n",
      "461/461 [==============================] - 0s 787us/step - loss: 0.2952 - accuracy: 0.7024 - val_loss: 0.3055 - val_accuracy: 0.6908\n",
      "Epoch 76/100\n",
      "461/461 [==============================] - 0s 791us/step - loss: 0.2948 - accuracy: 0.7024 - val_loss: 0.3094 - val_accuracy: 0.6908\n",
      "Epoch 77/100\n",
      "461/461 [==============================] - 0s 787us/step - loss: 0.2950 - accuracy: 0.7024 - val_loss: 0.3053 - val_accuracy: 0.6908\n",
      "Epoch 78/100\n",
      "461/461 [==============================] - 0s 804us/step - loss: 0.2948 - accuracy: 0.7024 - val_loss: 0.3066 - val_accuracy: 0.6908\n",
      "Epoch 79/100\n",
      "461/461 [==============================] - 0s 789us/step - loss: 0.2948 - accuracy: 0.7024 - val_loss: 0.3070 - val_accuracy: 0.6908\n",
      "Epoch 80/100\n",
      "461/461 [==============================] - 0s 793us/step - loss: 0.2947 - accuracy: 0.7024 - val_loss: 0.3047 - val_accuracy: 0.6908\n",
      "Epoch 81/100\n",
      "461/461 [==============================] - 0s 805us/step - loss: 0.2951 - accuracy: 0.7024 - val_loss: 0.3055 - val_accuracy: 0.6908\n",
      "Epoch 82/100\n",
      "461/461 [==============================] - 0s 820us/step - loss: 0.2953 - accuracy: 0.7024 - val_loss: 0.3045 - val_accuracy: 0.6908\n",
      "Epoch 83/100\n",
      "461/461 [==============================] - 0s 810us/step - loss: 0.2940 - accuracy: 0.7024 - val_loss: 0.3053 - val_accuracy: 0.6908\n",
      "Epoch 84/100\n",
      "461/461 [==============================] - 0s 808us/step - loss: 0.2945 - accuracy: 0.7024 - val_loss: 0.3058 - val_accuracy: 0.6908\n",
      "Epoch 85/100\n",
      "461/461 [==============================] - 0s 792us/step - loss: 0.2945 - accuracy: 0.7024 - val_loss: 0.3042 - val_accuracy: 0.6908\n",
      "Epoch 86/100\n",
      "461/461 [==============================] - 0s 793us/step - loss: 0.2940 - accuracy: 0.7024 - val_loss: 0.3053 - val_accuracy: 0.6908\n",
      "Epoch 87/100\n",
      "461/461 [==============================] - 0s 821us/step - loss: 0.2946 - accuracy: 0.7024 - val_loss: 0.3073 - val_accuracy: 0.6908\n",
      "Epoch 88/100\n",
      "461/461 [==============================] - 0s 815us/step - loss: 0.2940 - accuracy: 0.7024 - val_loss: 0.3055 - val_accuracy: 0.6908\n",
      "Epoch 89/100\n",
      "461/461 [==============================] - 0s 817us/step - loss: 0.2948 - accuracy: 0.7024 - val_loss: 0.3042 - val_accuracy: 0.6908\n",
      "Epoch 90/100\n",
      "461/461 [==============================] - 0s 806us/step - loss: 0.2941 - accuracy: 0.7024 - val_loss: 0.3058 - val_accuracy: 0.6908\n",
      "Epoch 91/100\n",
      "461/461 [==============================] - 0s 786us/step - loss: 0.2937 - accuracy: 0.6988 - val_loss: 0.3051 - val_accuracy: 0.6908\n",
      "Epoch 92/100\n",
      "461/461 [==============================] - 0s 800us/step - loss: 0.2938 - accuracy: 0.7024 - val_loss: 0.3047 - val_accuracy: 0.6908\n",
      "Epoch 93/100\n",
      "461/461 [==============================] - 0s 834us/step - loss: 0.2942 - accuracy: 0.7024 - val_loss: 0.3068 - val_accuracy: 0.6908\n",
      "Epoch 94/100\n",
      "461/461 [==============================] - 0s 823us/step - loss: 0.2950 - accuracy: 0.7024 - val_loss: 0.3085 - val_accuracy: 0.6908\n",
      "Epoch 95/100\n",
      "461/461 [==============================] - 0s 826us/step - loss: 0.2948 - accuracy: 0.7024 - val_loss: 0.3043 - val_accuracy: 0.6908\n",
      "Epoch 96/100\n",
      "461/461 [==============================] - 0s 823us/step - loss: 0.2939 - accuracy: 0.7024 - val_loss: 0.3068 - val_accuracy: 0.6908\n",
      "Epoch 97/100\n",
      "461/461 [==============================] - 0s 817us/step - loss: 0.2952 - accuracy: 0.7024 - val_loss: 0.3060 - val_accuracy: 0.6908\n",
      "Epoch 98/100\n",
      "461/461 [==============================] - 0s 821us/step - loss: 0.2945 - accuracy: 0.7024 - val_loss: 0.3061 - val_accuracy: 0.6908\n",
      "Epoch 99/100\n",
      "461/461 [==============================] - 0s 794us/step - loss: 0.2943 - accuracy: 0.7024 - val_loss: 0.3045 - val_accuracy: 0.6908\n",
      "Epoch 100/100\n",
      "461/461 [==============================] - 0s 824us/step - loss: 0.2948 - accuracy: 0.7024 - val_loss: 0.3060 - val_accuracy: 0.6908\n",
      "11/11 [==============================] - 0s 598us/step\n"
     ]
    }
   ],
   "source": [
    "model_history=model.fit(x=X_train, y=y_train, epochs=100, batch_size=3,validation_data= (X_test,y_test))\n",
    "y_pred = model.predict(X_test)\n",
    "\n",
    "y_test_class = np.argmax(y_test,axis=1)\n",
    "y_pred_class = np.argmax(y_pred,axis=1)"
   ]
  },
  {
   "cell_type": "code",
   "execution_count": 29,
   "id": "f607f2d3",
   "metadata": {},
   "outputs": [
    {
     "name": "stdout",
     "output_type": "stream",
     "text": [
      "              precision    recall  f1-score   support\n",
      "\n",
      "           0       0.00      0.00      0.00        77\n",
      "           1       0.00      0.00      0.00        14\n",
      "           2       0.69      1.00      0.82       239\n",
      "           3       0.00      0.00      0.00        16\n",
      "\n",
      "    accuracy                           0.69       346\n",
      "   macro avg       0.17      0.25      0.20       346\n",
      "weighted avg       0.48      0.69      0.56       346\n",
      "\n",
      "[[  0   0  77   0]\n",
      " [  0   0  14   0]\n",
      " [  0   0 239   0]\n",
      " [  0   0  16   0]]\n"
     ]
    },
    {
     "name": "stderr",
     "output_type": "stream",
     "text": [
      "C:\\dd\\lib\\site-packages\\sklearn\\metrics\\_classification.py:1318: UndefinedMetricWarning: Precision and F-score are ill-defined and being set to 0.0 in labels with no predicted samples. Use `zero_division` parameter to control this behavior.\n",
      "  _warn_prf(average, modifier, msg_start, len(result))\n",
      "C:\\dd\\lib\\site-packages\\sklearn\\metrics\\_classification.py:1318: UndefinedMetricWarning: Precision and F-score are ill-defined and being set to 0.0 in labels with no predicted samples. Use `zero_division` parameter to control this behavior.\n",
      "  _warn_prf(average, modifier, msg_start, len(result))\n",
      "C:\\dd\\lib\\site-packages\\sklearn\\metrics\\_classification.py:1318: UndefinedMetricWarning: Precision and F-score are ill-defined and being set to 0.0 in labels with no predicted samples. Use `zero_division` parameter to control this behavior.\n",
      "  _warn_prf(average, modifier, msg_start, len(result))\n"
     ]
    }
   ],
   "source": [
    "from sklearn.metrics import classification_report,confusion_matrix\n",
    "print(classification_report(y_test_class,y_pred_class))\n",
    "print(confusion_matrix(y_test_class,y_pred_class))"
   ]
  },
  {
   "cell_type": "code",
   "execution_count": 30,
   "id": "c938bbe8",
   "metadata": {},
   "outputs": [
    {
     "data": {
      "image/png": "[encoded data removed]",
      "text/plain": [
       "<Figure size 640x480 with 1 Axes>"
      ]
     },
     "metadata": {},
     "output_type": "display_data"
    }
   ],
   "source": [
    "import matplotlib.pyplot as plt\n",
    "import seaborn as sns\n",
    "\n",
    "loss =model_history.history['loss']\n",
    "val_loss =model_history.history['val_loss']\n",
    "epochs = range(1, len(loss) + 1)\n",
    "plt.plot(epochs, loss, 'y', label='Training loss')\n",
    "plt.plot(epochs, val_loss, 'r', label='Validation loss')\n",
    "plt.title('Training and validation loss')\n",
    "plt.xlabel('Epochs')\n",
    "plt.ylabel('Loss')\n",
    "plt.legend()\n",
    "plt.show()"
   ]
  },
  {
   "cell_type": "code",
   "execution_count": 31,
   "id": "65d0c685",
   "metadata": {},
   "outputs": [
    {
     "data": {
      "image/png": "[encoded data removed]",
      "text/plain": [
       "<Figure size 640x480 with 1 Axes>"
      ]
     },
     "metadata": {},
     "output_type": "display_data"
    }
   ],
   "source": [
    "acc =model_history.history['accuracy']\n",
    "val_acc =model_history.history['val_accuracy']\n",
    "plt.plot(epochs, acc, 'y', label='Training acc')\n",
    "plt.plot(epochs, val_acc, 'r', label='Validation acc')\n",
    "plt.title('Training and validation accuracy')\n",
    "plt.xlabel('Epochs')\n",
    "plt.ylabel('Accuracy')\n",
    "plt.legend()\n",
    "plt.show()"
   ]
  },
  {
   "cell_type": "code",
   "execution_count": null,
   "id": "c1aef31a",
   "metadata": {},
   "outputs": [],
   "source": []
  }
 ],
 "metadata": {
  "kernelspec": {
   "display_name": "Python 3 (ipykernel)",
   "language": "python",
   "name": "python3"
  },
  "language_info": {
   "codemirror_mode": {
    "name": "ipython",
    "version": 3
   },
   "file_extension": ".py",
   "mimetype": "text/x-python",
   "name": "python",
   "nbconvert_exporter": "python",
   "pygments_lexer": "ipython3",
   "version": "3.9.13"
  }
 },
 "nbformat": 4,
 "nbformat_minor": 5
}
