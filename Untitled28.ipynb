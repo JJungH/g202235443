{
 "cells": [
  {
   "cell_type": "code",
   "execution_count": 19,
   "id": "9a8ba948",
   "metadata": {
    "scrolled": false
   },
   "outputs": [
    {
     "data": {
      "text/html": [
       "<div>\n",
       "<style scoped>\n",
       "    .dataframe tbody tr th:only-of-type {\n",
       "        vertical-align: middle;\n",
       "    }\n",
       "\n",
       "    .dataframe tbody tr th {\n",
       "        vertical-align: top;\n",
       "    }\n",
       "\n",
       "    .dataframe thead th {\n",
       "        text-align: right;\n",
       "    }\n",
       "</style>\n",
       "<table border=\"1\" class=\"dataframe\">\n",
       "  <thead>\n",
       "    <tr style=\"text-align: right;\">\n",
       "      <th></th>\n",
       "      <th>Pregnancies</th>\n",
       "      <th>Glucose</th>\n",
       "      <th>BloodPressure</th>\n",
       "      <th>SkinThickness</th>\n",
       "      <th>Insulin</th>\n",
       "      <th>BMI</th>\n",
       "      <th>DiabetesPedigreeFunction</th>\n",
       "      <th>Age</th>\n",
       "      <th>Outcome</th>\n",
       "    </tr>\n",
       "  </thead>\n",
       "  <tbody>\n",
       "    <tr>\n",
       "      <th>0</th>\n",
       "      <td>6</td>\n",
       "      <td>148</td>\n",
       "      <td>72</td>\n",
       "      <td>35</td>\n",
       "      <td>0</td>\n",
       "      <td>33.6</td>\n",
       "      <td>0.627</td>\n",
       "      <td>50</td>\n",
       "      <td>1</td>\n",
       "    </tr>\n",
       "    <tr>\n",
       "      <th>1</th>\n",
       "      <td>1</td>\n",
       "      <td>85</td>\n",
       "      <td>66</td>\n",
       "      <td>29</td>\n",
       "      <td>0</td>\n",
       "      <td>26.6</td>\n",
       "      <td>0.351</td>\n",
       "      <td>31</td>\n",
       "      <td>0</td>\n",
       "    </tr>\n",
       "    <tr>\n",
       "      <th>2</th>\n",
       "      <td>8</td>\n",
       "      <td>183</td>\n",
       "      <td>64</td>\n",
       "      <td>0</td>\n",
       "      <td>0</td>\n",
       "      <td>23.3</td>\n",
       "      <td>0.672</td>\n",
       "      <td>32</td>\n",
       "      <td>1</td>\n",
       "    </tr>\n",
       "    <tr>\n",
       "      <th>3</th>\n",
       "      <td>1</td>\n",
       "      <td>89</td>\n",
       "      <td>66</td>\n",
       "      <td>23</td>\n",
       "      <td>94</td>\n",
       "      <td>28.1</td>\n",
       "      <td>0.167</td>\n",
       "      <td>21</td>\n",
       "      <td>0</td>\n",
       "    </tr>\n",
       "    <tr>\n",
       "      <th>4</th>\n",
       "      <td>0</td>\n",
       "      <td>137</td>\n",
       "      <td>40</td>\n",
       "      <td>35</td>\n",
       "      <td>168</td>\n",
       "      <td>43.1</td>\n",
       "      <td>2.288</td>\n",
       "      <td>33</td>\n",
       "      <td>1</td>\n",
       "    </tr>\n",
       "  </tbody>\n",
       "</table>\n",
       "</div>"
      ],
      "text/plain": [
       "   Pregnancies  Glucose  BloodPressure  SkinThickness  Insulin   BMI  \\\n",
       "0            6      148             72             35        0  33.6   \n",
       "1            1       85             66             29        0  26.6   \n",
       "2            8      183             64              0        0  23.3   \n",
       "3            1       89             66             23       94  28.1   \n",
       "4            0      137             40             35      168  43.1   \n",
       "\n",
       "   DiabetesPedigreeFunction  Age  Outcome  \n",
       "0                     0.627   50        1  \n",
       "1                     0.351   31        0  \n",
       "2                     0.672   32        1  \n",
       "3                     0.167   21        0  \n",
       "4                     2.288   33        1  "
      ]
     },
     "execution_count": 19,
     "metadata": {},
     "output_type": "execute_result"
    }
   ],
   "source": [
    "import pandas as pd \n",
    "import numpy as np\n",
    "import matplotlib.pyplot as plt\n",
    "import seaborn as sns \n",
    "from sklearn.model_selection import train_test_split\n",
    "from sklearn.preprocessing import LabelEncoder\n",
    "import matplotlib.pyplot as plt\n",
    "from sklearn import datasets, metrics\n",
    "\n",
    "df= pd.read_csv(r\"\\Users\\wgdwe\\OneDrive\\바탕 화면\\diabetes.csv\")\n",
    "\n",
    "df.head()\n"
   ]
  },
  {
   "cell_type": "code",
   "execution_count": 20,
   "id": "c5d1f36d",
   "metadata": {},
   "outputs": [
    {
     "data": {
      "text/plain": [
       "Pregnancies                 0\n",
       "Glucose                     0\n",
       "BloodPressure               0\n",
       "SkinThickness               0\n",
       "Insulin                     0\n",
       "BMI                         0\n",
       "DiabetesPedigreeFunction    0\n",
       "Age                         0\n",
       "Outcome                     0\n",
       "dtype: int64"
      ]
     },
     "execution_count": 20,
     "metadata": {},
     "output_type": "execute_result"
    }
   ],
   "source": [
    "df.isnull().sum()"
   ]
  },
  {
   "cell_type": "code",
   "execution_count": 21,
   "id": "21d6feba",
   "metadata": {
    "scrolled": true
   },
   "outputs": [
    {
     "data": {
      "text/plain": [
       "0    500\n",
       "1    268\n",
       "Name: Outcome, dtype: int64"
      ]
     },
     "execution_count": 21,
     "metadata": {},
     "output_type": "execute_result"
    }
   ],
   "source": [
    "df[\"Outcome\"].value_counts()"
   ]
  },
  {
   "cell_type": "code",
   "execution_count": 22,
   "id": "4ac2e469",
   "metadata": {},
   "outputs": [
    {
     "data": {
      "text/html": [
       "<div>\n",
       "<style scoped>\n",
       "    .dataframe tbody tr th:only-of-type {\n",
       "        vertical-align: middle;\n",
       "    }\n",
       "\n",
       "    .dataframe tbody tr th {\n",
       "        vertical-align: top;\n",
       "    }\n",
       "\n",
       "    .dataframe thead th {\n",
       "        text-align: right;\n",
       "    }\n",
       "</style>\n",
       "<table border=\"1\" class=\"dataframe\">\n",
       "  <thead>\n",
       "    <tr style=\"text-align: right;\">\n",
       "      <th></th>\n",
       "      <th>Pregnancies</th>\n",
       "      <th>Glucose</th>\n",
       "      <th>BloodPressure</th>\n",
       "      <th>SkinThickness</th>\n",
       "      <th>Insulin</th>\n",
       "      <th>BMI</th>\n",
       "      <th>DiabetesPedigreeFunction</th>\n",
       "      <th>Age</th>\n",
       "      <th>Outcome</th>\n",
       "    </tr>\n",
       "  </thead>\n",
       "  <tbody>\n",
       "    <tr>\n",
       "      <th>0</th>\n",
       "      <td>6</td>\n",
       "      <td>86</td>\n",
       "      <td>22</td>\n",
       "      <td>28</td>\n",
       "      <td>0</td>\n",
       "      <td>123</td>\n",
       "      <td>350</td>\n",
       "      <td>29</td>\n",
       "      <td>1</td>\n",
       "    </tr>\n",
       "    <tr>\n",
       "      <th>1</th>\n",
       "      <td>1</td>\n",
       "      <td>23</td>\n",
       "      <td>19</td>\n",
       "      <td>22</td>\n",
       "      <td>0</td>\n",
       "      <td>62</td>\n",
       "      <td>196</td>\n",
       "      <td>10</td>\n",
       "      <td>0</td>\n",
       "    </tr>\n",
       "    <tr>\n",
       "      <th>2</th>\n",
       "      <td>8</td>\n",
       "      <td>121</td>\n",
       "      <td>17</td>\n",
       "      <td>0</td>\n",
       "      <td>0</td>\n",
       "      <td>30</td>\n",
       "      <td>368</td>\n",
       "      <td>11</td>\n",
       "      <td>1</td>\n",
       "    </tr>\n",
       "    <tr>\n",
       "      <th>3</th>\n",
       "      <td>1</td>\n",
       "      <td>27</td>\n",
       "      <td>19</td>\n",
       "      <td>16</td>\n",
       "      <td>62</td>\n",
       "      <td>77</td>\n",
       "      <td>53</td>\n",
       "      <td>0</td>\n",
       "      <td>0</td>\n",
       "    </tr>\n",
       "    <tr>\n",
       "      <th>4</th>\n",
       "      <td>0</td>\n",
       "      <td>75</td>\n",
       "      <td>4</td>\n",
       "      <td>28</td>\n",
       "      <td>102</td>\n",
       "      <td>209</td>\n",
       "      <td>514</td>\n",
       "      <td>12</td>\n",
       "      <td>1</td>\n",
       "    </tr>\n",
       "  </tbody>\n",
       "</table>\n",
       "</div>"
      ],
      "text/plain": [
       "   Pregnancies  Glucose  BloodPressure  SkinThickness  Insulin  BMI  \\\n",
       "0            6       86             22             28        0  123   \n",
       "1            1       23             19             22        0   62   \n",
       "2            8      121             17              0        0   30   \n",
       "3            1       27             19             16       62   77   \n",
       "4            0       75              4             28      102  209   \n",
       "\n",
       "   DiabetesPedigreeFunction  Age  Outcome  \n",
       "0                       350   29        1  \n",
       "1                       196   10        0  \n",
       "2                       368   11        1  \n",
       "3                        53    0        0  \n",
       "4                       514   12        1  "
      ]
     },
     "execution_count": 22,
     "metadata": {},
     "output_type": "execute_result"
    }
   ],
   "source": [
    "le = LabelEncoder()\n",
    "for i in df.columns:\n",
    "    df[i] = le.fit_transform(df[i])\n",
    "    \n",
    "df.head()"
   ]
  },
  {
   "cell_type": "code",
   "execution_count": 23,
   "id": "481d118c",
   "metadata": {},
   "outputs": [],
   "source": [
    "X = df.drop(\"Outcome\", axis=1)\n",
    "y=df[\"Outcome\"]"
   ]
  },
  {
   "cell_type": "code",
   "execution_count": 24,
   "id": "19c77f1f",
   "metadata": {},
   "outputs": [],
   "source": [
    "from keras.utils import to_categorical\n",
    "\n",
    "# 원-핫 인코딩\n",
    "y = to_categorical(y)"
   ]
  },
  {
   "cell_type": "code",
   "execution_count": 25,
   "id": "84c1d11f",
   "metadata": {},
   "outputs": [
    {
     "data": {
      "text/plain": [
       "array([[0., 1.],\n",
       "       [1., 0.],\n",
       "       [0., 1.],\n",
       "       ...,\n",
       "       [1., 0.],\n",
       "       [0., 1.],\n",
       "       [1., 0.]], dtype=float32)"
      ]
     },
     "execution_count": 25,
     "metadata": {},
     "output_type": "execute_result"
    }
   ],
   "source": [
    "y"
   ]
  },
  {
   "cell_type": "code",
   "execution_count": 26,
   "id": "9e14de43",
   "metadata": {},
   "outputs": [],
   "source": [
    "X_train, X_test, y_train, y_test = train_test_split(X,y, test_size=0.2, random_state=0)"
   ]
  },
  {
   "cell_type": "code",
   "execution_count": 27,
   "id": "9ed7a9b1",
   "metadata": {},
   "outputs": [
    {
     "name": "stdout",
     "output_type": "stream",
     "text": [
      "X train : (614, 8)\n",
      "y train : (614, 2)\n",
      "X test : (154, 8)\n",
      "y test : (154, 2)\n"
     ]
    }
   ],
   "source": [
    "print(\"X train :\", X_train.shape)\n",
    "print(\"y train :\", y_train.shape)\n",
    "print(\"X test :\", X_test.shape)\n",
    "print(\"y test :\", y_test.shape)"
   ]
  },
  {
   "cell_type": "code",
   "execution_count": 28,
   "id": "04ec5773",
   "metadata": {},
   "outputs": [
    {
     "name": "stdout",
     "output_type": "stream",
     "text": [
      "Model: \"sequential_1\"\n",
      "_________________________________________________________________\n",
      " Layer (type)                Output Shape              Param #   \n",
      "=================================================================\n",
      " dense_4 (Dense)             (None, 40)                360       \n",
      "                                                                 \n",
      " dense_5 (Dense)             (None, 30)                1230      \n",
      "                                                                 \n",
      " dense_6 (Dense)             (None, 20)                620       \n",
      "                                                                 \n",
      " dense_7 (Dense)             (None, 2)                 42        \n",
      "                                                                 \n",
      "=================================================================\n",
      "Total params: 2,252\n",
      "Trainable params: 2,252\n",
      "Non-trainable params: 0\n",
      "_________________________________________________________________\n"
     ]
    },
    {
     "name": "stderr",
     "output_type": "stream",
     "text": [
      "C:\\dd\\lib\\site-packages\\keras\\optimizers\\optimizer_v2\\adam.py:114: UserWarning: The `lr` argument is deprecated, use `learning_rate` instead.\n",
      "  super().__init__(name, **kwargs)\n"
     ]
    }
   ],
   "source": [
    "from keras.models import Sequential\n",
    "from keras.layers import Dense\n",
    "from keras.optimizers import SGD,Adam\n",
    "\n",
    "\n",
    "model = Sequential()\n",
    "\n",
    "model.add(Dense(40,input_shape=(8,),activation='relu'))\n",
    "model.add(Dense(30,activation='relu'))\n",
    "model.add(Dense(20,activation='relu'))\n",
    "model.add(Dense(2,activation='softmax'))\n",
    "\n",
    "model.compile(Adam(lr=0.04),'binary_crossentropy',metrics=['accuracy'])\n",
    "\n",
    "model.summary()"
   ]
  },
  {
   "cell_type": "code",
   "execution_count": 29,
   "id": "2a84fb04",
   "metadata": {},
   "outputs": [
    {
     "name": "stdout",
     "output_type": "stream",
     "text": [
      "Epoch 1/100\n",
      "205/205 [==============================] - 1s 1ms/step - loss: 0.8499 - accuracy: 0.6336 - val_loss: 0.6244 - val_accuracy: 0.6948\n",
      "Epoch 2/100\n",
      "205/205 [==============================] - 0s 848us/step - loss: 0.6556 - accuracy: 0.6401 - val_loss: 0.6220 - val_accuracy: 0.6948\n",
      "Epoch 3/100\n",
      "205/205 [==============================] - 0s 845us/step - loss: 0.6575 - accuracy: 0.6401 - val_loss: 0.6262 - val_accuracy: 0.6948\n",
      "Epoch 4/100\n",
      "205/205 [==============================] - 0s 846us/step - loss: 0.6549 - accuracy: 0.6401 - val_loss: 0.6156 - val_accuracy: 0.6948\n",
      "Epoch 5/100\n",
      "205/205 [==============================] - 0s 845us/step - loss: 0.6580 - accuracy: 0.6401 - val_loss: 0.6254 - val_accuracy: 0.6948\n",
      "Epoch 6/100\n",
      "205/205 [==============================] - 0s 850us/step - loss: 0.6578 - accuracy: 0.6401 - val_loss: 0.6302 - val_accuracy: 0.6948\n",
      "Epoch 7/100\n",
      "205/205 [==============================] - 0s 849us/step - loss: 0.6558 - accuracy: 0.6401 - val_loss: 0.6337 - val_accuracy: 0.6948\n",
      "Epoch 8/100\n",
      "205/205 [==============================] - 0s 849us/step - loss: 0.6557 - accuracy: 0.6401 - val_loss: 0.6231 - val_accuracy: 0.6948\n",
      "Epoch 9/100\n",
      "205/205 [==============================] - 0s 855us/step - loss: 0.6575 - accuracy: 0.6401 - val_loss: 0.6238 - val_accuracy: 0.6948\n",
      "Epoch 10/100\n",
      "205/205 [==============================] - 0s 850us/step - loss: 0.6556 - accuracy: 0.6401 - val_loss: 0.6170 - val_accuracy: 0.6948\n",
      "Epoch 11/100\n",
      "205/205 [==============================] - 0s 850us/step - loss: 0.6564 - accuracy: 0.6401 - val_loss: 0.6178 - val_accuracy: 0.6948\n",
      "Epoch 12/100\n",
      "205/205 [==============================] - 0s 867us/step - loss: 0.6557 - accuracy: 0.6401 - val_loss: 0.6270 - val_accuracy: 0.6948\n",
      "Epoch 13/100\n",
      "205/205 [==============================] - 0s 865us/step - loss: 0.6567 - accuracy: 0.6401 - val_loss: 0.6220 - val_accuracy: 0.6948\n",
      "Epoch 14/100\n",
      "205/205 [==============================] - 0s 870us/step - loss: 0.6565 - accuracy: 0.6401 - val_loss: 0.6248 - val_accuracy: 0.6948\n",
      "Epoch 15/100\n",
      "205/205 [==============================] - 0s 863us/step - loss: 0.6563 - accuracy: 0.6401 - val_loss: 0.6177 - val_accuracy: 0.6948\n",
      "Epoch 16/100\n",
      "205/205 [==============================] - 0s 870us/step - loss: 0.6558 - accuracy: 0.6401 - val_loss: 0.6237 - val_accuracy: 0.6948\n",
      "Epoch 17/100\n",
      "205/205 [==============================] - 0s 855us/step - loss: 0.6588 - accuracy: 0.6401 - val_loss: 0.6267 - val_accuracy: 0.6948\n",
      "Epoch 18/100\n",
      "205/205 [==============================] - 0s 855us/step - loss: 0.6570 - accuracy: 0.6401 - val_loss: 0.6208 - val_accuracy: 0.6948\n",
      "Epoch 19/100\n",
      "205/205 [==============================] - 0s 889us/step - loss: 0.6548 - accuracy: 0.6401 - val_loss: 0.6163 - val_accuracy: 0.6948\n",
      "Epoch 20/100\n",
      "205/205 [==============================] - 0s 870us/step - loss: 0.6548 - accuracy: 0.6401 - val_loss: 0.6155 - val_accuracy: 0.6948\n",
      "Epoch 21/100\n",
      "205/205 [==============================] - 0s 879us/step - loss: 0.6574 - accuracy: 0.6401 - val_loss: 0.6223 - val_accuracy: 0.6948\n",
      "Epoch 22/100\n",
      "205/205 [==============================] - 0s 845us/step - loss: 0.6568 - accuracy: 0.6401 - val_loss: 0.6220 - val_accuracy: 0.6948\n",
      "Epoch 23/100\n",
      "205/205 [==============================] - 0s 879us/step - loss: 0.6571 - accuracy: 0.6401 - val_loss: 0.6293 - val_accuracy: 0.6948\n",
      "Epoch 24/100\n",
      "205/205 [==============================] - 0s 865us/step - loss: 0.6565 - accuracy: 0.6401 - val_loss: 0.6201 - val_accuracy: 0.6948\n",
      "Epoch 25/100\n",
      "205/205 [==============================] - 0s 855us/step - loss: 0.6566 - accuracy: 0.6401 - val_loss: 0.6191 - val_accuracy: 0.6948\n",
      "Epoch 26/100\n",
      "205/205 [==============================] - 0s 875us/step - loss: 0.6572 - accuracy: 0.6401 - val_loss: 0.6186 - val_accuracy: 0.6948\n",
      "Epoch 27/100\n",
      "205/205 [==============================] - 0s 870us/step - loss: 0.6567 - accuracy: 0.6401 - val_loss: 0.6206 - val_accuracy: 0.6948\n",
      "Epoch 28/100\n",
      "205/205 [==============================] - 0s 870us/step - loss: 0.6516 - accuracy: 0.6401 - val_loss: 0.6567 - val_accuracy: 0.6948\n",
      "Epoch 29/100\n",
      "205/205 [==============================] - 0s 875us/step - loss: 0.6559 - accuracy: 0.6401 - val_loss: 0.6213 - val_accuracy: 0.6948\n",
      "Epoch 30/100\n",
      "205/205 [==============================] - 0s 860us/step - loss: 0.6563 - accuracy: 0.6401 - val_loss: 0.6215 - val_accuracy: 0.6948\n",
      "Epoch 31/100\n",
      "205/205 [==============================] - 0s 860us/step - loss: 0.6551 - accuracy: 0.6401 - val_loss: 0.6231 - val_accuracy: 0.6948\n",
      "Epoch 32/100\n",
      "205/205 [==============================] - 0s 854us/step - loss: 0.6555 - accuracy: 0.6401 - val_loss: 0.6159 - val_accuracy: 0.6948\n",
      "Epoch 33/100\n",
      "205/205 [==============================] - 0s 845us/step - loss: 0.6583 - accuracy: 0.6401 - val_loss: 0.6183 - val_accuracy: 0.6948\n",
      "Epoch 34/100\n",
      "205/205 [==============================] - 0s 845us/step - loss: 0.6564 - accuracy: 0.6401 - val_loss: 0.6178 - val_accuracy: 0.6948\n",
      "Epoch 35/100\n",
      "205/205 [==============================] - 0s 884us/step - loss: 0.6573 - accuracy: 0.6401 - val_loss: 0.6269 - val_accuracy: 0.6948\n",
      "Epoch 36/100\n",
      "205/205 [==============================] - 0s 869us/step - loss: 0.6557 - accuracy: 0.6401 - val_loss: 0.6327 - val_accuracy: 0.6948\n",
      "Epoch 37/100\n",
      "205/205 [==============================] - 0s 840us/step - loss: 0.6574 - accuracy: 0.6401 - val_loss: 0.6231 - val_accuracy: 0.6948\n",
      "Epoch 38/100\n",
      "205/205 [==============================] - 0s 840us/step - loss: 0.6578 - accuracy: 0.6401 - val_loss: 0.6226 - val_accuracy: 0.6948\n",
      "Epoch 39/100\n",
      "205/205 [==============================] - 0s 858us/step - loss: 0.6565 - accuracy: 0.6401 - val_loss: 0.6189 - val_accuracy: 0.6948\n",
      "Epoch 40/100\n",
      "205/205 [==============================] - 0s 850us/step - loss: 0.6564 - accuracy: 0.6401 - val_loss: 0.6170 - val_accuracy: 0.6948\n",
      "Epoch 41/100\n",
      "205/205 [==============================] - 0s 845us/step - loss: 0.6545 - accuracy: 0.6401 - val_loss: 0.6294 - val_accuracy: 0.6948\n",
      "Epoch 42/100\n",
      "205/205 [==============================] - 0s 843us/step - loss: 0.6602 - accuracy: 0.6401 - val_loss: 0.6171 - val_accuracy: 0.6948\n",
      "Epoch 43/100\n",
      "205/205 [==============================] - 0s 835us/step - loss: 0.6566 - accuracy: 0.6401 - val_loss: 0.6217 - val_accuracy: 0.6948\n",
      "Epoch 44/100\n",
      "205/205 [==============================] - 0s 855us/step - loss: 0.6538 - accuracy: 0.6401 - val_loss: 0.6232 - val_accuracy: 0.6948\n",
      "Epoch 45/100\n",
      "205/205 [==============================] - 0s 845us/step - loss: 0.6564 - accuracy: 0.6401 - val_loss: 0.6218 - val_accuracy: 0.6948\n",
      "Epoch 46/100\n",
      "205/205 [==============================] - 0s 856us/step - loss: 0.6559 - accuracy: 0.6401 - val_loss: 0.6154 - val_accuracy: 0.6948\n",
      "Epoch 47/100\n",
      "205/205 [==============================] - 0s 860us/step - loss: 0.6561 - accuracy: 0.6401 - val_loss: 0.6437 - val_accuracy: 0.6948\n",
      "Epoch 48/100\n",
      "205/205 [==============================] - 0s 884us/step - loss: 0.6569 - accuracy: 0.6401 - val_loss: 0.6175 - val_accuracy: 0.6948\n",
      "Epoch 49/100\n",
      "205/205 [==============================] - 0s 875us/step - loss: 0.6566 - accuracy: 0.6401 - val_loss: 0.6235 - val_accuracy: 0.6948\n",
      "Epoch 50/100\n",
      "205/205 [==============================] - 0s 884us/step - loss: 0.6570 - accuracy: 0.6401 - val_loss: 0.6244 - val_accuracy: 0.6948\n",
      "Epoch 51/100\n",
      "205/205 [==============================] - 0s 877us/step - loss: 0.6570 - accuracy: 0.6401 - val_loss: 0.6177 - val_accuracy: 0.6948\n",
      "Epoch 52/100\n",
      "205/205 [==============================] - 0s 870us/step - loss: 0.6563 - accuracy: 0.6401 - val_loss: 0.6187 - val_accuracy: 0.6948\n",
      "Epoch 53/100\n",
      "205/205 [==============================] - 0s 850us/step - loss: 0.6577 - accuracy: 0.6401 - val_loss: 0.6260 - val_accuracy: 0.6948\n",
      "Epoch 54/100\n",
      "205/205 [==============================] - 0s 877us/step - loss: 0.6576 - accuracy: 0.6401 - val_loss: 0.6152 - val_accuracy: 0.6948\n",
      "Epoch 55/100\n",
      "205/205 [==============================] - 0s 865us/step - loss: 0.6560 - accuracy: 0.6401 - val_loss: 0.6168 - val_accuracy: 0.6948\n",
      "Epoch 56/100\n",
      "205/205 [==============================] - 0s 899us/step - loss: 0.6601 - accuracy: 0.6401 - val_loss: 0.6200 - val_accuracy: 0.6948\n",
      "Epoch 57/100\n",
      "205/205 [==============================] - 0s 850us/step - loss: 0.6573 - accuracy: 0.6401 - val_loss: 0.6279 - val_accuracy: 0.6948\n",
      "Epoch 58/100\n",
      "205/205 [==============================] - 0s 850us/step - loss: 0.6589 - accuracy: 0.6401 - val_loss: 0.6196 - val_accuracy: 0.6948\n",
      "Epoch 59/100\n",
      "205/205 [==============================] - 0s 860us/step - loss: 0.6558 - accuracy: 0.6401 - val_loss: 0.6152 - val_accuracy: 0.6948\n",
      "Epoch 60/100\n",
      "205/205 [==============================] - 0s 879us/step - loss: 0.6581 - accuracy: 0.6401 - val_loss: 0.6213 - val_accuracy: 0.6948\n",
      "Epoch 61/100\n",
      "205/205 [==============================] - 0s 854us/step - loss: 0.6569 - accuracy: 0.6401 - val_loss: 0.6187 - val_accuracy: 0.6948\n",
      "Epoch 62/100\n",
      "205/205 [==============================] - 0s 855us/step - loss: 0.6563 - accuracy: 0.6401 - val_loss: 0.6274 - val_accuracy: 0.6948\n",
      "Epoch 63/100\n",
      "205/205 [==============================] - 0s 875us/step - loss: 0.6561 - accuracy: 0.6401 - val_loss: 0.6250 - val_accuracy: 0.6948\n",
      "Epoch 64/100\n",
      "205/205 [==============================] - 0s 874us/step - loss: 0.6560 - accuracy: 0.6401 - val_loss: 0.6297 - val_accuracy: 0.6948\n",
      "Epoch 65/100\n",
      "205/205 [==============================] - 0s 899us/step - loss: 0.6558 - accuracy: 0.6401 - val_loss: 0.6169 - val_accuracy: 0.6948\n",
      "Epoch 66/100\n",
      "205/205 [==============================] - 0s 880us/step - loss: 0.6579 - accuracy: 0.6401 - val_loss: 0.6247 - val_accuracy: 0.6948\n",
      "Epoch 67/100\n",
      "205/205 [==============================] - 0s 904us/step - loss: 0.6548 - accuracy: 0.6401 - val_loss: 0.6292 - val_accuracy: 0.6948\n",
      "Epoch 68/100\n",
      "205/205 [==============================] - 0s 875us/step - loss: 0.6563 - accuracy: 0.6401 - val_loss: 0.6258 - val_accuracy: 0.6948\n",
      "Epoch 69/100\n",
      "205/205 [==============================] - 0s 879us/step - loss: 0.6548 - accuracy: 0.6401 - val_loss: 0.6439 - val_accuracy: 0.6948\n",
      "Epoch 70/100\n",
      "205/205 [==============================] - 0s 884us/step - loss: 0.6604 - accuracy: 0.6401 - val_loss: 0.6234 - val_accuracy: 0.6948\n",
      "Epoch 71/100\n",
      "205/205 [==============================] - 0s 890us/step - loss: 0.6561 - accuracy: 0.6401 - val_loss: 0.6193 - val_accuracy: 0.6948\n",
      "Epoch 72/100\n",
      "205/205 [==============================] - 0s 863us/step - loss: 0.6561 - accuracy: 0.6401 - val_loss: 0.6153 - val_accuracy: 0.6948\n",
      "Epoch 73/100\n",
      "205/205 [==============================] - 0s 875us/step - loss: 0.6597 - accuracy: 0.6401 - val_loss: 0.6166 - val_accuracy: 0.6948\n",
      "Epoch 74/100\n",
      "205/205 [==============================] - 0s 882us/step - loss: 0.6557 - accuracy: 0.6401 - val_loss: 0.6360 - val_accuracy: 0.6948\n",
      "Epoch 75/100\n",
      "205/205 [==============================] - 0s 894us/step - loss: 0.6563 - accuracy: 0.6401 - val_loss: 0.6252 - val_accuracy: 0.6948\n",
      "Epoch 76/100\n",
      "205/205 [==============================] - 0s 889us/step - loss: 0.6566 - accuracy: 0.6401 - val_loss: 0.6273 - val_accuracy: 0.6948\n",
      "Epoch 77/100\n",
      "205/205 [==============================] - 0s 904us/step - loss: 0.6575 - accuracy: 0.6401 - val_loss: 0.6414 - val_accuracy: 0.6948\n",
      "Epoch 78/100\n",
      "205/205 [==============================] - 0s 894us/step - loss: 0.6582 - accuracy: 0.6401 - val_loss: 0.6228 - val_accuracy: 0.6948\n",
      "Epoch 79/100\n",
      "205/205 [==============================] - 0s 867us/step - loss: 0.6540 - accuracy: 0.6401 - val_loss: 0.6152 - val_accuracy: 0.6948\n",
      "Epoch 80/100\n",
      "205/205 [==============================] - 0s 849us/step - loss: 0.6576 - accuracy: 0.6401 - val_loss: 0.6405 - val_accuracy: 0.6948\n",
      "Epoch 81/100\n",
      "205/205 [==============================] - 0s 879us/step - loss: 0.6566 - accuracy: 0.6401 - val_loss: 0.6209 - val_accuracy: 0.6948\n",
      "Epoch 82/100\n",
      "205/205 [==============================] - 0s 859us/step - loss: 0.6562 - accuracy: 0.6401 - val_loss: 0.6247 - val_accuracy: 0.6948\n",
      "Epoch 83/100\n",
      "205/205 [==============================] - 0s 943us/step - loss: 0.6571 - accuracy: 0.6401 - val_loss: 0.6247 - val_accuracy: 0.6948\n",
      "Epoch 84/100\n",
      "205/205 [==============================] - 0s 914us/step - loss: 0.6549 - accuracy: 0.6401 - val_loss: 0.6152 - val_accuracy: 0.6948\n",
      "Epoch 85/100\n",
      "205/205 [==============================] - 0s 875us/step - loss: 0.6595 - accuracy: 0.6401 - val_loss: 0.6239 - val_accuracy: 0.6948\n",
      "Epoch 86/100\n",
      "205/205 [==============================] - 0s 879us/step - loss: 0.6562 - accuracy: 0.6401 - val_loss: 0.6215 - val_accuracy: 0.6948\n",
      "Epoch 87/100\n",
      "205/205 [==============================] - 0s 904us/step - loss: 0.6563 - accuracy: 0.6401 - val_loss: 0.6368 - val_accuracy: 0.6948\n",
      "Epoch 88/100\n",
      "205/205 [==============================] - 0s 871us/step - loss: 0.6555 - accuracy: 0.6401 - val_loss: 0.6393 - val_accuracy: 0.6948\n",
      "Epoch 89/100\n",
      "205/205 [==============================] - 0s 884us/step - loss: 0.6578 - accuracy: 0.6401 - val_loss: 0.6277 - val_accuracy: 0.6948\n",
      "Epoch 90/100\n",
      "205/205 [==============================] - 0s 870us/step - loss: 0.6568 - accuracy: 0.6401 - val_loss: 0.6168 - val_accuracy: 0.6948\n",
      "Epoch 91/100\n",
      "205/205 [==============================] - 0s 870us/step - loss: 0.6553 - accuracy: 0.6401 - val_loss: 0.6153 - val_accuracy: 0.6948\n",
      "Epoch 92/100\n",
      "205/205 [==============================] - 0s 900us/step - loss: 0.6573 - accuracy: 0.6401 - val_loss: 0.6213 - val_accuracy: 0.6948\n",
      "Epoch 93/100\n",
      "205/205 [==============================] - 0s 890us/step - loss: 0.6551 - accuracy: 0.6401 - val_loss: 0.6153 - val_accuracy: 0.6948\n",
      "Epoch 94/100\n",
      "205/205 [==============================] - 0s 987us/step - loss: 0.6580 - accuracy: 0.6401 - val_loss: 0.6189 - val_accuracy: 0.6948\n",
      "Epoch 95/100\n",
      "205/205 [==============================] - 0s 982us/step - loss: 0.6568 - accuracy: 0.6401 - val_loss: 0.6240 - val_accuracy: 0.6948\n",
      "Epoch 96/100\n",
      "205/205 [==============================] - 0s 948us/step - loss: 0.6573 - accuracy: 0.6401 - val_loss: 0.6161 - val_accuracy: 0.6948\n",
      "Epoch 97/100\n",
      "205/205 [==============================] - 0s 890us/step - loss: 0.6569 - accuracy: 0.6401 - val_loss: 0.6242 - val_accuracy: 0.6948\n",
      "Epoch 98/100\n",
      "205/205 [==============================] - 0s 865us/step - loss: 0.6576 - accuracy: 0.6401 - val_loss: 0.6218 - val_accuracy: 0.6948\n",
      "Epoch 99/100\n",
      "205/205 [==============================] - 0s 875us/step - loss: 0.6559 - accuracy: 0.6401 - val_loss: 0.6285 - val_accuracy: 0.6948\n",
      "Epoch 100/100\n",
      "205/205 [==============================] - 0s 870us/step - loss: 0.6580 - accuracy: 0.6401 - val_loss: 0.6225 - val_accuracy: 0.6948\n",
      "5/5 [==============================] - 0s 749us/step\n"
     ]
    }
   ],
   "source": [
    "model_history=model.fit(x=X_train, y=y_train, epochs=100, batch_size=3,validation_data= (X_test,y_test))\n",
    "y_pred = model.predict(X_test)\n",
    "\n",
    "y_test_class = np.argmax(y_test,axis=1)\n",
    "y_pred_class = np.argmax(y_pred,axis=1)"
   ]
  },
  {
   "cell_type": "code",
   "execution_count": 30,
   "id": "8b042182",
   "metadata": {},
   "outputs": [
    {
     "name": "stdout",
     "output_type": "stream",
     "text": [
      "              precision    recall  f1-score   support\n",
      "\n",
      "           0       0.69      1.00      0.82       107\n",
      "           1       0.00      0.00      0.00        47\n",
      "\n",
      "    accuracy                           0.69       154\n",
      "   macro avg       0.35      0.50      0.41       154\n",
      "weighted avg       0.48      0.69      0.57       154\n",
      "\n",
      "[[107   0]\n",
      " [ 47   0]]\n"
     ]
    },
    {
     "name": "stderr",
     "output_type": "stream",
     "text": [
      "C:\\dd\\lib\\site-packages\\sklearn\\metrics\\_classification.py:1318: UndefinedMetricWarning: Precision and F-score are ill-defined and being set to 0.0 in labels with no predicted samples. Use `zero_division` parameter to control this behavior.\n",
      "  _warn_prf(average, modifier, msg_start, len(result))\n",
      "C:\\dd\\lib\\site-packages\\sklearn\\metrics\\_classification.py:1318: UndefinedMetricWarning: Precision and F-score are ill-defined and being set to 0.0 in labels with no predicted samples. Use `zero_division` parameter to control this behavior.\n",
      "  _warn_prf(average, modifier, msg_start, len(result))\n",
      "C:\\dd\\lib\\site-packages\\sklearn\\metrics\\_classification.py:1318: UndefinedMetricWarning: Precision and F-score are ill-defined and being set to 0.0 in labels with no predicted samples. Use `zero_division` parameter to control this behavior.\n",
      "  _warn_prf(average, modifier, msg_start, len(result))\n"
     ]
    }
   ],
   "source": [
    "from sklearn.metrics import classification_report,confusion_matrix\n",
    "print(classification_report(y_test_class,y_pred_class))\n",
    "print(confusion_matrix(y_test_class,y_pred_class))"
   ]
  },
  {
   "cell_type": "code",
   "execution_count": 31,
   "id": "f212e8fe",
   "metadata": {},
   "outputs": [
    {
     "data": {
      "image/png": "[encoded data removed]",
      "text/plain": [
       "<Figure size 640x480 with 1 Axes>"
      ]
     },
     "metadata": {},
     "output_type": "display_data"
    }
   ],
   "source": [
    "import matplotlib.pyplot as plt\n",
    "import seaborn as sns\n",
    "\n",
    "loss =model_history.history['loss']\n",
    "val_loss =model_history.history['val_loss']\n",
    "epochs = range(1, len(loss) + 1)\n",
    "plt.plot(epochs, loss, 'y', label='Training loss')\n",
    "plt.plot(epochs, val_loss, 'r', label='Validation loss')\n",
    "plt.title('Training and validation loss')\n",
    "plt.xlabel('Epochs')\n",
    "plt.ylabel('Loss')\n",
    "plt.legend()\n",
    "plt.show()"
   ]
  },
  {
   "cell_type": "code",
   "execution_count": 32,
   "id": "41f6b229",
   "metadata": {},
   "outputs": [
    {
     "data": {
      "image/png": "[encoded data removed]",
      "text/plain": [
       "<Figure size 640x480 with 1 Axes>"
      ]
     },
     "metadata": {},
     "output_type": "display_data"
    }
   ],
   "source": [
    "acc =model_history.history['accuracy']\n",
    "val_acc =model_history.history['val_accuracy']\n",
    "plt.plot(epochs, acc, 'y', label='Training acc')\n",
    "plt.plot(epochs, val_acc, 'r', label='Validation acc')\n",
    "plt.title('Training and validation accuracy')\n",
    "plt.xlabel('Epochs')\n",
    "plt.ylabel('Accuracy')\n",
    "plt.legend()\n",
    "plt.show()"
   ]
  },
  {
   "cell_type": "code",
   "execution_count": null,
   "id": "0204654b",
   "metadata": {},
   "outputs": [],
   "source": []
  }
 ],
 "metadata": {
  "kernelspec": {
   "display_name": "Python 3 (ipykernel)",
   "language": "python",
   "name": "python3"
  },
  "language_info": {
   "codemirror_mode": {
    "name": "ipython",
    "version": 3
   },
   "file_extension": ".py",
   "mimetype": "text/x-python",
   "name": "python",
   "nbconvert_exporter": "python",
   "pygments_lexer": "ipython3",
   "version": "3.9.13"
  }
 },
 "nbformat": 4,
 "nbformat_minor": 5
}
