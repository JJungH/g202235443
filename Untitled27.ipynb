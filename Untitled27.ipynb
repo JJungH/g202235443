{
 "cells": [
  {
   "cell_type": "code",
   "execution_count": 108,
   "id": "ed0fa9c1",
   "metadata": {},
   "outputs": [
    {
     "data": {
      "text/html": [
       "<div>\n",
       "<style scoped>\n",
       "    .dataframe tbody tr th:only-of-type {\n",
       "        vertical-align: middle;\n",
       "    }\n",
       "\n",
       "    .dataframe tbody tr th {\n",
       "        vertical-align: top;\n",
       "    }\n",
       "\n",
       "    .dataframe thead th {\n",
       "        text-align: right;\n",
       "    }\n",
       "</style>\n",
       "<table border=\"1\" class=\"dataframe\">\n",
       "  <thead>\n",
       "    <tr style=\"text-align: right;\">\n",
       "      <th></th>\n",
       "      <th>Pregnancies</th>\n",
       "      <th>Glucose</th>\n",
       "      <th>BloodPressure</th>\n",
       "      <th>SkinThickness</th>\n",
       "      <th>Insulin</th>\n",
       "      <th>BMI</th>\n",
       "      <th>DiabetesPedigreeFunction</th>\n",
       "      <th>Age</th>\n",
       "      <th>Outcome</th>\n",
       "    </tr>\n",
       "  </thead>\n",
       "  <tbody>\n",
       "    <tr>\n",
       "      <th>0</th>\n",
       "      <td>6</td>\n",
       "      <td>148</td>\n",
       "      <td>72</td>\n",
       "      <td>35</td>\n",
       "      <td>0</td>\n",
       "      <td>33.6</td>\n",
       "      <td>0.627</td>\n",
       "      <td>50</td>\n",
       "      <td>1</td>\n",
       "    </tr>\n",
       "    <tr>\n",
       "      <th>1</th>\n",
       "      <td>1</td>\n",
       "      <td>85</td>\n",
       "      <td>66</td>\n",
       "      <td>29</td>\n",
       "      <td>0</td>\n",
       "      <td>26.6</td>\n",
       "      <td>0.351</td>\n",
       "      <td>31</td>\n",
       "      <td>0</td>\n",
       "    </tr>\n",
       "    <tr>\n",
       "      <th>2</th>\n",
       "      <td>8</td>\n",
       "      <td>183</td>\n",
       "      <td>64</td>\n",
       "      <td>0</td>\n",
       "      <td>0</td>\n",
       "      <td>23.3</td>\n",
       "      <td>0.672</td>\n",
       "      <td>32</td>\n",
       "      <td>1</td>\n",
       "    </tr>\n",
       "    <tr>\n",
       "      <th>3</th>\n",
       "      <td>1</td>\n",
       "      <td>89</td>\n",
       "      <td>66</td>\n",
       "      <td>23</td>\n",
       "      <td>94</td>\n",
       "      <td>28.1</td>\n",
       "      <td>0.167</td>\n",
       "      <td>21</td>\n",
       "      <td>0</td>\n",
       "    </tr>\n",
       "    <tr>\n",
       "      <th>4</th>\n",
       "      <td>0</td>\n",
       "      <td>137</td>\n",
       "      <td>40</td>\n",
       "      <td>35</td>\n",
       "      <td>168</td>\n",
       "      <td>43.1</td>\n",
       "      <td>2.288</td>\n",
       "      <td>33</td>\n",
       "      <td>1</td>\n",
       "    </tr>\n",
       "  </tbody>\n",
       "</table>\n",
       "</div>"
      ],
      "text/plain": [
       "   Pregnancies  Glucose  BloodPressure  SkinThickness  Insulin   BMI  \\\n",
       "0            6      148             72             35        0  33.6   \n",
       "1            1       85             66             29        0  26.6   \n",
       "2            8      183             64              0        0  23.3   \n",
       "3            1       89             66             23       94  28.1   \n",
       "4            0      137             40             35      168  43.1   \n",
       "\n",
       "   DiabetesPedigreeFunction  Age  Outcome  \n",
       "0                     0.627   50        1  \n",
       "1                     0.351   31        0  \n",
       "2                     0.672   32        1  \n",
       "3                     0.167   21        0  \n",
       "4                     2.288   33        1  "
      ]
     },
     "execution_count": 108,
     "metadata": {},
     "output_type": "execute_result"
    }
   ],
   "source": [
    "import pandas as pd \n",
    "import numpy as np\n",
    "import matplotlib.pyplot as plt\n",
    "import seaborn as sns \n",
    "from sklearn.model_selection import train_test_split\n",
    "from sklearn.preprocessing import LabelEncoder\n",
    "import matplotlib.pyplot as plt\n",
    "from sklearn import datasets, metrics\n",
    "\n",
    "df_data = pd.read_csv(r\"\\Users\\wgdwe\\OneDrive\\바탕 화면\\diabetes.csv\")\n",
    "df = pd.DataFrame(df_data, )\n",
    "df.head()\n",
    "\n",
    "df['outcome']"
   ]
  },
  {
   "cell_type": "code",
   "execution_count": 109,
   "id": "1db582d7",
   "metadata": {},
   "outputs": [
    {
     "data": {
      "text/plain": [
       "Pregnancies                 0\n",
       "Glucose                     0\n",
       "BloodPressure               0\n",
       "SkinThickness               0\n",
       "Insulin                     0\n",
       "BMI                         0\n",
       "DiabetesPedigreeFunction    0\n",
       "Age                         0\n",
       "Outcome                     0\n",
       "dtype: int64"
      ]
     },
     "execution_count": 109,
     "metadata": {},
     "output_type": "execute_result"
    }
   ],
   "source": [
    "df.isnull().sum()"
   ]
  },
  {
   "cell_type": "code",
   "execution_count": 131,
   "id": "8bbf0fd9",
   "metadata": {},
   "outputs": [],
   "source": [
    "y=df['Outcome']"
   ]
  },
  {
   "cell_type": "code",
   "execution_count": 133,
   "id": "234cbd0a",
   "metadata": {},
   "outputs": [
    {
     "data": {
      "text/plain": [
       "0    1\n",
       "1    0\n",
       "2    1\n",
       "3    0\n",
       "4    1\n",
       "Name: Outcome, dtype: int64"
      ]
     },
     "execution_count": 133,
     "metadata": {},
     "output_type": "execute_result"
    }
   ],
   "source": [
    "y"
   ]
  },
  {
   "cell_type": "code",
   "execution_count": 110,
   "id": "f9693199",
   "metadata": {},
   "outputs": [],
   "source": [
    "X_train, X_test, y_train, y_test = train_test_split(df.iloc[:, :-1], df.iloc[:, -1], test_size=0.25, random_state=0)\n"
   ]
  },
  {
   "cell_type": "code",
   "execution_count": 111,
   "id": "0968beff",
   "metadata": {
    "scrolled": false
   },
   "outputs": [
    {
     "name": "stdout",
     "output_type": "stream",
     "text": [
      "X train : (576, 8)\n",
      "y train : (576,)\n",
      "X test : (192, 8)\n",
      "y test : (192,)\n"
     ]
    }
   ],
   "source": [
    "print(\"X train :\", X_train.shape)\n",
    "print(\"y train :\", y_train.shape)\n",
    "print(\"X test :\", X_test.shape)\n",
    "print(\"y test :\", y_test.shape)"
   ]
  },
  {
   "cell_type": "code",
   "execution_count": 112,
   "id": "13be75fe",
   "metadata": {},
   "outputs": [
    {
     "data": {
      "text/html": [
       "<div>\n",
       "<style scoped>\n",
       "    .dataframe tbody tr th:only-of-type {\n",
       "        vertical-align: middle;\n",
       "    }\n",
       "\n",
       "    .dataframe tbody tr th {\n",
       "        vertical-align: top;\n",
       "    }\n",
       "\n",
       "    .dataframe thead th {\n",
       "        text-align: right;\n",
       "    }\n",
       "</style>\n",
       "<table border=\"1\" class=\"dataframe\">\n",
       "  <thead>\n",
       "    <tr style=\"text-align: right;\">\n",
       "      <th></th>\n",
       "      <th>Pregnancies</th>\n",
       "      <th>Glucose</th>\n",
       "      <th>BloodPressure</th>\n",
       "      <th>SkinThickness</th>\n",
       "      <th>Insulin</th>\n",
       "      <th>BMI</th>\n",
       "      <th>DiabetesPedigreeFunction</th>\n",
       "      <th>Age</th>\n",
       "      <th>Outcome</th>\n",
       "    </tr>\n",
       "  </thead>\n",
       "  <tbody>\n",
       "    <tr>\n",
       "      <th>0</th>\n",
       "      <td>6</td>\n",
       "      <td>86</td>\n",
       "      <td>22</td>\n",
       "      <td>28</td>\n",
       "      <td>0</td>\n",
       "      <td>123</td>\n",
       "      <td>350</td>\n",
       "      <td>29</td>\n",
       "      <td>1</td>\n",
       "    </tr>\n",
       "    <tr>\n",
       "      <th>1</th>\n",
       "      <td>1</td>\n",
       "      <td>23</td>\n",
       "      <td>19</td>\n",
       "      <td>22</td>\n",
       "      <td>0</td>\n",
       "      <td>62</td>\n",
       "      <td>196</td>\n",
       "      <td>10</td>\n",
       "      <td>0</td>\n",
       "    </tr>\n",
       "    <tr>\n",
       "      <th>2</th>\n",
       "      <td>8</td>\n",
       "      <td>121</td>\n",
       "      <td>17</td>\n",
       "      <td>0</td>\n",
       "      <td>0</td>\n",
       "      <td>30</td>\n",
       "      <td>368</td>\n",
       "      <td>11</td>\n",
       "      <td>1</td>\n",
       "    </tr>\n",
       "    <tr>\n",
       "      <th>3</th>\n",
       "      <td>1</td>\n",
       "      <td>27</td>\n",
       "      <td>19</td>\n",
       "      <td>16</td>\n",
       "      <td>62</td>\n",
       "      <td>77</td>\n",
       "      <td>53</td>\n",
       "      <td>0</td>\n",
       "      <td>0</td>\n",
       "    </tr>\n",
       "    <tr>\n",
       "      <th>4</th>\n",
       "      <td>0</td>\n",
       "      <td>75</td>\n",
       "      <td>4</td>\n",
       "      <td>28</td>\n",
       "      <td>102</td>\n",
       "      <td>209</td>\n",
       "      <td>514</td>\n",
       "      <td>12</td>\n",
       "      <td>1</td>\n",
       "    </tr>\n",
       "  </tbody>\n",
       "</table>\n",
       "</div>"
      ],
      "text/plain": [
       "   Pregnancies  Glucose  BloodPressure  SkinThickness  Insulin  BMI  \\\n",
       "0            6       86             22             28        0  123   \n",
       "1            1       23             19             22        0   62   \n",
       "2            8      121             17              0        0   30   \n",
       "3            1       27             19             16       62   77   \n",
       "4            0       75              4             28      102  209   \n",
       "\n",
       "   DiabetesPedigreeFunction  Age  Outcome  \n",
       "0                       350   29        1  \n",
       "1                       196   10        0  \n",
       "2                       368   11        1  \n",
       "3                        53    0        0  \n",
       "4                       514   12        1  "
      ]
     },
     "execution_count": 112,
     "metadata": {},
     "output_type": "execute_result"
    }
   ],
   "source": [
    "le = LabelEncoder()\n",
    "for i in df.columns:\n",
    "    df[i] = le.fit_transform(df[i])\n",
    "    \n",
    "df.head()"
   ]
  },
  {
   "cell_type": "code",
   "execution_count": 113,
   "id": "c7737335",
   "metadata": {},
   "outputs": [],
   "source": [
    "from sklearn.linear_model import LogisticRegression\n",
    "from sklearn.svm import SVC\n",
    "from sklearn.neural_network import MLPClassifier\n",
    "from sklearn.tree import DecisionTreeClassifier\n",
    "from sklearn.metrics import accuracy_score\n",
    "from sklearn.metrics import confusion_matrix"
   ]
  },
  {
   "cell_type": "code",
   "execution_count": 114,
   "id": "5a705755",
   "metadata": {},
   "outputs": [
    {
     "name": "stdout",
     "output_type": "stream",
     "text": [
      "\n",
      "--- Logistic Regression Classifier ---\n",
      "0.7916666666666666\n",
      "[[115  15]\n",
      " [ 25  37]]\n"
     ]
    },
    {
     "name": "stderr",
     "output_type": "stream",
     "text": [
      "C:\\dd\\lib\\site-packages\\sklearn\\linear_model\\_logistic.py:814: ConvergenceWarning: lbfgs failed to converge (status=1):\n",
      "STOP: TOTAL NO. of ITERATIONS REACHED LIMIT.\n",
      "\n",
      "Increase the number of iterations (max_iter) or scale the data as shown in:\n",
      "    https://scikit-learn.org/stable/modules/preprocessing.html\n",
      "Please also refer to the documentation for alternative solver options:\n",
      "    https://scikit-learn.org/stable/modules/linear_model.html#logistic-regression\n",
      "  n_iter_i = _check_optimize_result(\n"
     ]
    }
   ],
   "source": [
    "clf_lr = LogisticRegression(random_state=0)\n",
    "clf_lr.fit(X_train, y_train)\n",
    "\n",
    "pred_lr = clf_lr.predict(X_test)\n",
    "\n",
    "print (\"\\n--- Logistic Regression Classifier ---\")\n",
    "print (accuracy_score(y_test, pred_lr))\n",
    "print (confusion_matrix(y_test, pred_lr))"
   ]
  },
  {
   "cell_type": "code",
   "execution_count": 115,
   "id": "515811e5",
   "metadata": {},
   "outputs": [],
   "source": [
    "from sklearn.neighbors import KNeighborsClassifier\n",
    "knn = KNeighborsClassifier(n_neighbors=6)"
   ]
  },
  {
   "cell_type": "code",
   "execution_count": 116,
   "id": "0b6a169e",
   "metadata": {},
   "outputs": [
    {
     "data": {
      "text/plain": [
       "KNeighborsClassifier(n_neighbors=6)"
      ]
     },
     "execution_count": 116,
     "metadata": {},
     "output_type": "execute_result"
    }
   ],
   "source": [
    "knn.fit(X_train, y_train)"
   ]
  },
  {
   "cell_type": "code",
   "execution_count": 117,
   "id": "e3d2be93",
   "metadata": {},
   "outputs": [
    {
     "name": "stdout",
     "output_type": "stream",
     "text": [
      "0.7604166666666666\n"
     ]
    },
    {
     "name": "stderr",
     "output_type": "stream",
     "text": [
      "C:\\dd\\lib\\site-packages\\sklearn\\neighbors\\_classification.py:228: FutureWarning: Unlike other reduction functions (e.g. `skew`, `kurtosis`), the default behavior of `mode` typically preserves the axis it acts along. In SciPy 1.11.0, this behavior will change: the default value of `keepdims` will become False, the `axis` over which the statistic is taken will be eliminated, and the value None will no longer be accepted. Set `keepdims` to True or False to avoid this warning.\n",
      "  mode, _ = stats.mode(_y[neigh_ind, k], axis=1)\n"
     ]
    }
   ],
   "source": [
    "y_pred = knn.predict(X_test)\n",
    "# 정확도를 계산한다.\n",
    "\n",
    "scores = metrics.accuracy_score(y_test, y_pred)\n",
    "print(scores)"
   ]
  },
  {
   "cell_type": "code",
   "execution_count": 118,
   "id": "35412a2f",
   "metadata": {},
   "outputs": [
    {
     "name": "stdout",
     "output_type": "stream",
     "text": [
      "\n",
      "--- SVM Classifier ---\n",
      "0.7708333333333334\n",
      "[[119  11]\n",
      " [ 33  29]]\n"
     ]
    }
   ],
   "source": [
    "from sklearn.svm import SVC\n",
    "\n",
    "clf_svm = SVC(random_state=0)\n",
    "clf_svm.fit(X_train, y_train)\n",
    "\n",
    "pred_svm = clf_svm.predict(X_test)\n",
    "\n",
    "print(\"\\n--- SVM Classifier ---\")\n",
    "print(accuracy_score(y_test, pred_svm))\n",
    "print(confusion_matrix(y_test, pred_svm))"
   ]
  },
  {
   "cell_type": "code",
   "execution_count": 119,
   "id": "6f561da6",
   "metadata": {},
   "outputs": [
    {
     "name": "stdout",
     "output_type": "stream",
     "text": [
      "\n",
      "--- Logistic Regression Classifier ---\n",
      "0.7916666666666666\n",
      "[[115  15]\n",
      " [ 25  37]]\n"
     ]
    },
    {
     "name": "stderr",
     "output_type": "stream",
     "text": [
      "C:\\dd\\lib\\site-packages\\sklearn\\linear_model\\_logistic.py:814: ConvergenceWarning: lbfgs failed to converge (status=1):\n",
      "STOP: TOTAL NO. of ITERATIONS REACHED LIMIT.\n",
      "\n",
      "Increase the number of iterations (max_iter) or scale the data as shown in:\n",
      "    https://scikit-learn.org/stable/modules/preprocessing.html\n",
      "Please also refer to the documentation for alternative solver options:\n",
      "    https://scikit-learn.org/stable/modules/linear_model.html#logistic-regression\n",
      "  n_iter_i = _check_optimize_result(\n"
     ]
    }
   ],
   "source": [
    "clf_lr = LogisticRegression(random_state=0)\n",
    "clf_lr.fit(X_train, y_train)\n",
    "\n",
    "pred_lr = clf_lr.predict(X_test)\n",
    "\n",
    "print (\"\\n--- Logistic Regression Classifier ---\")\n",
    "print (accuracy_score(y_test, pred_lr))\n",
    "print (confusion_matrix(y_test, pred_lr))"
   ]
  },
  {
   "cell_type": "code",
   "execution_count": 120,
   "id": "8b45ebe5",
   "metadata": {},
   "outputs": [
    {
     "name": "stdout",
     "output_type": "stream",
     "text": [
      "\n",
      "--- Decision Tree Classifier ---\n",
      "0.71875\n",
      "[[102  28]\n",
      " [ 26  36]]\n"
     ]
    }
   ],
   "source": [
    "clf_dt = DecisionTreeClassifier(random_state=0)\n",
    "clf_dt.fit(X_train, y_train)\n",
    "\n",
    "pred_dt = clf_dt.predict(X_test)\n",
    "\n",
    "print (\"\\n--- Decision Tree Classifier ---\")\n",
    "print (accuracy_score(y_test, pred_dt))\n",
    "print (confusion_matrix(y_test, pred_dt))"
   ]
  },
  {
   "cell_type": "code",
   "execution_count": 121,
   "id": "37f87330",
   "metadata": {},
   "outputs": [
    {
     "name": "stdout",
     "output_type": "stream",
     "text": [
      "\n",
      "--- Radom Forest ---\n",
      "0.7708333333333334\n",
      "[[116  14]\n",
      " [ 30  32]]\n"
     ]
    }
   ],
   "source": [
    "from sklearn.ensemble import RandomForestClassifier\n",
    "from sklearn.metrics import accuracy_score\n",
    "import pandas as pd\n",
    "import warnings\n",
    "import numpy as np\n",
    "warnings.filterwarnings('ignore')\n",
    "\n",
    "print (\"\\n--- Radom Forest ---\")\n",
    "rf_clf = RandomForestClassifier(random_state=0)\n",
    "rf_clf.fit(X_train, y_train)\n",
    "pred = rf_clf.predict(X_test)\n",
    "print(accuracy_score(y_test,pred))\n",
    "print (confusion_matrix(y_test, pred))"
   ]
  },
  {
   "cell_type": "code",
   "execution_count": 122,
   "id": "0a4937a7",
   "metadata": {},
   "outputs": [],
   "source": [
    "from tensorflow.keras import models\n",
    "from tensorflow.keras import layers\n",
    "from tensorflow.keras.optimizers import SGD,Adam"
   ]
  },
  {
   "cell_type": "code",
   "execution_count": 123,
   "id": "5f264514",
   "metadata": {},
   "outputs": [],
   "source": [
    "from sklearn.preprocessing import LabelEncoder\n",
    "import pandas as pd\n",
    "encoder =  LabelEncoder()\n",
    "y1 = encoder.fit_transform(y_train)\n",
    "y2 = encoder.fit_transform(y_test)\n",
    "y_train = pd.get_dummies(y1).values\n",
    "y_test = pd.get_dummies(y2).values"
   ]
  },
  {
   "cell_type": "code",
   "execution_count": 126,
   "id": "a2a1a8e7",
   "metadata": {},
   "outputs": [
    {
     "name": "stderr",
     "output_type": "stream",
     "text": [
      "WARNING:absl:`lr` is deprecated in Keras optimizer, please use `learning_rate` or use the legacy optimizer, e.g.,tf.keras.optimizers.legacy.Adam.\n"
     ]
    },
    {
     "name": "stdout",
     "output_type": "stream",
     "text": [
      "Model: \"sequential_4\"\n",
      "_________________________________________________________________\n",
      " Layer (type)                Output Shape              Param #   \n",
      "=================================================================\n",
      " dense_16 (Dense)            (None, 30)                270       \n",
      "                                                                 \n",
      " dense_17 (Dense)            (None, 20)                620       \n",
      "                                                                 \n",
      " dense_18 (Dense)            (None, 10)                210       \n",
      "                                                                 \n",
      " dense_19 (Dense)            (None, 2)                 22        \n",
      "                                                                 \n",
      "=================================================================\n",
      "Total params: 1,122\n",
      "Trainable params: 1,122\n",
      "Non-trainable params: 0\n",
      "_________________________________________________________________\n"
     ]
    }
   ],
   "source": [
    "def build_model(): \n",
    "    model = models.Sequential()\n",
    "    model.add(layers.Dense(30, input_shape=(8,),activation='sigmoid'))\n",
    "    model.add(layers.Dense(20, activation='sigmoid'))\n",
    "    model.add(layers.Dense(10, activation='sigmoid'))\n",
    "    model.add(layers.Dense(2, activation='softmax'))\n",
    "    model.compile(Adam(lr=0.004),'binary_crossentropy', metrics=['accuracy'])\n",
    "    \n",
    "    return model\n",
    "model = build_model() \n",
    "\n",
    "model.summary()"
   ]
  },
  {
   "cell_type": "code",
   "execution_count": 127,
   "id": "4cf65be8",
   "metadata": {},
   "outputs": [
    {
     "name": "stdout",
     "output_type": "stream",
     "text": [
      "Epoch 1/100\n",
      "18/18 [==============================] - 1s 8ms/step - loss: 0.7713 - accuracy: 0.3576 - val_loss: 0.7412 - val_accuracy: 0.3229\n",
      "Epoch 2/100\n",
      "18/18 [==============================] - 0s 2ms/step - loss: 0.7155 - accuracy: 0.4358 - val_loss: 0.6945 - val_accuracy: 0.6562\n",
      "Epoch 3/100\n",
      "18/18 [==============================] - 0s 2ms/step - loss: 0.6831 - accuracy: 0.6458 - val_loss: 0.6654 - val_accuracy: 0.6771\n",
      "Epoch 4/100\n",
      "18/18 [==============================] - 0s 2ms/step - loss: 0.6653 - accuracy: 0.6424 - val_loss: 0.6497 - val_accuracy: 0.6771\n",
      "Epoch 5/100\n",
      "18/18 [==============================] - 0s 2ms/step - loss: 0.6569 - accuracy: 0.6424 - val_loss: 0.6413 - val_accuracy: 0.6771\n",
      "Epoch 6/100\n",
      "18/18 [==============================] - 0s 2ms/step - loss: 0.6530 - accuracy: 0.6424 - val_loss: 0.6372 - val_accuracy: 0.6771\n",
      "Epoch 7/100\n",
      "18/18 [==============================] - 0s 2ms/step - loss: 0.6513 - accuracy: 0.6424 - val_loss: 0.6342 - val_accuracy: 0.6771\n",
      "Epoch 8/100\n",
      "18/18 [==============================] - 0s 2ms/step - loss: 0.6506 - accuracy: 0.6424 - val_loss: 0.6328 - val_accuracy: 0.6771\n",
      "Epoch 9/100\n",
      "18/18 [==============================] - 0s 2ms/step - loss: 0.6503 - accuracy: 0.6424 - val_loss: 0.6319 - val_accuracy: 0.6771\n",
      "Epoch 10/100\n",
      "18/18 [==============================] - 0s 2ms/step - loss: 0.6499 - accuracy: 0.6424 - val_loss: 0.6318 - val_accuracy: 0.6771\n",
      "Epoch 11/100\n",
      "18/18 [==============================] - 0s 2ms/step - loss: 0.6497 - accuracy: 0.6424 - val_loss: 0.6314 - val_accuracy: 0.6771\n",
      "Epoch 12/100\n",
      "18/18 [==============================] - 0s 2ms/step - loss: 0.6496 - accuracy: 0.6424 - val_loss: 0.6307 - val_accuracy: 0.6771\n",
      "Epoch 13/100\n",
      "18/18 [==============================] - 0s 2ms/step - loss: 0.6494 - accuracy: 0.6424 - val_loss: 0.6312 - val_accuracy: 0.6771\n",
      "Epoch 14/100\n",
      "18/18 [==============================] - 0s 2ms/step - loss: 0.6488 - accuracy: 0.6424 - val_loss: 0.6305 - val_accuracy: 0.6771\n",
      "Epoch 15/100\n",
      "18/18 [==============================] - 0s 2ms/step - loss: 0.6484 - accuracy: 0.6424 - val_loss: 0.6302 - val_accuracy: 0.6771\n",
      "Epoch 16/100\n",
      "18/18 [==============================] - 0s 2ms/step - loss: 0.6483 - accuracy: 0.6424 - val_loss: 0.6293 - val_accuracy: 0.6771\n",
      "Epoch 17/100\n",
      "18/18 [==============================] - 0s 2ms/step - loss: 0.6476 - accuracy: 0.6424 - val_loss: 0.6293 - val_accuracy: 0.6771\n",
      "Epoch 18/100\n",
      "18/18 [==============================] - 0s 2ms/step - loss: 0.6476 - accuracy: 0.6424 - val_loss: 0.6295 - val_accuracy: 0.6771\n",
      "Epoch 19/100\n",
      "18/18 [==============================] - 0s 2ms/step - loss: 0.6472 - accuracy: 0.6424 - val_loss: 0.6276 - val_accuracy: 0.6771\n",
      "Epoch 20/100\n",
      "18/18 [==============================] - 0s 2ms/step - loss: 0.6460 - accuracy: 0.6424 - val_loss: 0.6277 - val_accuracy: 0.6771\n",
      "Epoch 21/100\n",
      "18/18 [==============================] - 0s 2ms/step - loss: 0.6453 - accuracy: 0.6424 - val_loss: 0.6267 - val_accuracy: 0.6771\n",
      "Epoch 22/100\n",
      "18/18 [==============================] - 0s 2ms/step - loss: 0.6445 - accuracy: 0.6424 - val_loss: 0.6263 - val_accuracy: 0.6771\n",
      "Epoch 23/100\n",
      "18/18 [==============================] - 0s 2ms/step - loss: 0.6439 - accuracy: 0.6424 - val_loss: 0.6258 - val_accuracy: 0.6771\n",
      "Epoch 24/100\n",
      "18/18 [==============================] - 0s 2ms/step - loss: 0.6433 - accuracy: 0.6424 - val_loss: 0.6249 - val_accuracy: 0.6771\n",
      "Epoch 25/100\n",
      "18/18 [==============================] - 0s 2ms/step - loss: 0.6425 - accuracy: 0.6424 - val_loss: 0.6248 - val_accuracy: 0.6771\n",
      "Epoch 26/100\n",
      "18/18 [==============================] - 0s 2ms/step - loss: 0.6419 - accuracy: 0.6424 - val_loss: 0.6235 - val_accuracy: 0.6771\n",
      "Epoch 27/100\n",
      "18/18 [==============================] - 0s 2ms/step - loss: 0.6420 - accuracy: 0.6424 - val_loss: 0.6234 - val_accuracy: 0.6771\n",
      "Epoch 28/100\n",
      "18/18 [==============================] - 0s 2ms/step - loss: 0.6401 - accuracy: 0.6424 - val_loss: 0.6214 - val_accuracy: 0.6771\n",
      "Epoch 29/100\n",
      "18/18 [==============================] - 0s 2ms/step - loss: 0.6390 - accuracy: 0.6424 - val_loss: 0.6203 - val_accuracy: 0.6771\n",
      "Epoch 30/100\n",
      "18/18 [==============================] - 0s 2ms/step - loss: 0.6382 - accuracy: 0.6424 - val_loss: 0.6192 - val_accuracy: 0.6771\n",
      "Epoch 31/100\n",
      "18/18 [==============================] - 0s 2ms/step - loss: 0.6369 - accuracy: 0.6424 - val_loss: 0.6183 - val_accuracy: 0.6771\n",
      "Epoch 32/100\n",
      "18/18 [==============================] - 0s 2ms/step - loss: 0.6357 - accuracy: 0.6424 - val_loss: 0.6167 - val_accuracy: 0.6771\n",
      "Epoch 33/100\n",
      "18/18 [==============================] - 0s 2ms/step - loss: 0.6342 - accuracy: 0.6424 - val_loss: 0.6154 - val_accuracy: 0.6771\n",
      "Epoch 34/100\n",
      "18/18 [==============================] - 0s 2ms/step - loss: 0.6335 - accuracy: 0.6424 - val_loss: 0.6145 - val_accuracy: 0.6771\n",
      "Epoch 35/100\n",
      "18/18 [==============================] - 0s 2ms/step - loss: 0.6315 - accuracy: 0.6424 - val_loss: 0.6126 - val_accuracy: 0.6771\n",
      "Epoch 36/100\n",
      "18/18 [==============================] - 0s 2ms/step - loss: 0.6302 - accuracy: 0.6424 - val_loss: 0.6097 - val_accuracy: 0.6771\n",
      "Epoch 37/100\n",
      "18/18 [==============================] - 0s 2ms/step - loss: 0.6285 - accuracy: 0.6424 - val_loss: 0.6083 - val_accuracy: 0.6771\n",
      "Epoch 38/100\n",
      "18/18 [==============================] - 0s 2ms/step - loss: 0.6261 - accuracy: 0.6441 - val_loss: 0.6066 - val_accuracy: 0.6771\n",
      "Epoch 39/100\n",
      "18/18 [==============================] - 0s 2ms/step - loss: 0.6238 - accuracy: 0.6441 - val_loss: 0.6043 - val_accuracy: 0.6719\n",
      "Epoch 40/100\n",
      "18/18 [==============================] - 0s 2ms/step - loss: 0.6220 - accuracy: 0.6458 - val_loss: 0.6019 - val_accuracy: 0.6719\n",
      "Epoch 41/100\n",
      "18/18 [==============================] - 0s 2ms/step - loss: 0.6202 - accuracy: 0.6458 - val_loss: 0.5988 - val_accuracy: 0.6719\n",
      "Epoch 42/100\n",
      "18/18 [==============================] - 0s 2ms/step - loss: 0.6174 - accuracy: 0.6458 - val_loss: 0.5976 - val_accuracy: 0.6719\n",
      "Epoch 43/100\n",
      "18/18 [==============================] - 0s 2ms/step - loss: 0.6158 - accuracy: 0.6476 - val_loss: 0.5962 - val_accuracy: 0.6771\n",
      "Epoch 44/100\n",
      "18/18 [==============================] - 0s 2ms/step - loss: 0.6127 - accuracy: 0.6493 - val_loss: 0.5915 - val_accuracy: 0.6719\n",
      "Epoch 45/100\n",
      "18/18 [==============================] - 0s 2ms/step - loss: 0.6119 - accuracy: 0.6597 - val_loss: 0.5884 - val_accuracy: 0.6771\n",
      "Epoch 46/100\n",
      "18/18 [==============================] - 0s 2ms/step - loss: 0.6086 - accuracy: 0.6493 - val_loss: 0.5870 - val_accuracy: 0.6719\n",
      "Epoch 47/100\n",
      "18/18 [==============================] - 0s 2ms/step - loss: 0.6058 - accuracy: 0.6580 - val_loss: 0.5847 - val_accuracy: 0.6771\n",
      "Epoch 48/100\n",
      "18/18 [==============================] - 0s 2ms/step - loss: 0.6031 - accuracy: 0.6667 - val_loss: 0.5822 - val_accuracy: 0.6771\n",
      "Epoch 49/100\n",
      "18/18 [==============================] - 0s 2ms/step - loss: 0.6004 - accuracy: 0.6667 - val_loss: 0.5799 - val_accuracy: 0.6979\n",
      "Epoch 50/100\n",
      "18/18 [==============================] - 0s 2ms/step - loss: 0.5996 - accuracy: 0.6806 - val_loss: 0.5758 - val_accuracy: 0.7344\n",
      "Epoch 51/100\n",
      "18/18 [==============================] - 0s 2ms/step - loss: 0.5979 - accuracy: 0.6771 - val_loss: 0.5756 - val_accuracy: 0.7396\n",
      "Epoch 52/100\n",
      "18/18 [==============================] - 0s 2ms/step - loss: 0.5946 - accuracy: 0.6875 - val_loss: 0.5725 - val_accuracy: 0.7448\n",
      "Epoch 53/100\n",
      "18/18 [==============================] - 0s 2ms/step - loss: 0.5929 - accuracy: 0.6979 - val_loss: 0.5712 - val_accuracy: 0.7292\n",
      "Epoch 54/100\n",
      "18/18 [==============================] - 0s 2ms/step - loss: 0.5897 - accuracy: 0.6944 - val_loss: 0.5685 - val_accuracy: 0.7344\n",
      "Epoch 55/100\n",
      "18/18 [==============================] - 0s 2ms/step - loss: 0.5890 - accuracy: 0.6997 - val_loss: 0.5664 - val_accuracy: 0.7344\n",
      "Epoch 56/100\n",
      "18/18 [==============================] - 0s 2ms/step - loss: 0.5872 - accuracy: 0.6944 - val_loss: 0.5676 - val_accuracy: 0.7344\n",
      "Epoch 57/100\n",
      "18/18 [==============================] - 0s 2ms/step - loss: 0.5851 - accuracy: 0.6979 - val_loss: 0.5638 - val_accuracy: 0.7344\n",
      "Epoch 58/100\n",
      "18/18 [==============================] - 0s 2ms/step - loss: 0.5816 - accuracy: 0.7083 - val_loss: 0.5641 - val_accuracy: 0.7396\n",
      "Epoch 59/100\n",
      "18/18 [==============================] - 0s 2ms/step - loss: 0.5799 - accuracy: 0.7066 - val_loss: 0.5603 - val_accuracy: 0.7604\n",
      "Epoch 60/100\n",
      "18/18 [==============================] - 0s 2ms/step - loss: 0.5782 - accuracy: 0.7153 - val_loss: 0.5632 - val_accuracy: 0.7188\n",
      "Epoch 61/100\n",
      "18/18 [==============================] - 0s 2ms/step - loss: 0.5766 - accuracy: 0.7188 - val_loss: 0.5615 - val_accuracy: 0.7448\n",
      "Epoch 62/100\n",
      "18/18 [==============================] - 0s 2ms/step - loss: 0.5782 - accuracy: 0.6944 - val_loss: 0.5647 - val_accuracy: 0.7344\n",
      "Epoch 63/100\n",
      "18/18 [==============================] - 0s 2ms/step - loss: 0.5759 - accuracy: 0.7049 - val_loss: 0.5569 - val_accuracy: 0.7500\n",
      "Epoch 64/100\n",
      "18/18 [==============================] - 0s 2ms/step - loss: 0.5723 - accuracy: 0.7118 - val_loss: 0.5619 - val_accuracy: 0.7292\n",
      "Epoch 65/100\n",
      "18/18 [==============================] - 0s 2ms/step - loss: 0.5719 - accuracy: 0.7170 - val_loss: 0.5560 - val_accuracy: 0.7344\n",
      "Epoch 66/100\n",
      "18/18 [==============================] - 0s 2ms/step - loss: 0.5707 - accuracy: 0.7170 - val_loss: 0.5558 - val_accuracy: 0.7344\n",
      "Epoch 67/100\n",
      "18/18 [==============================] - 0s 2ms/step - loss: 0.5680 - accuracy: 0.7083 - val_loss: 0.5563 - val_accuracy: 0.7344\n",
      "Epoch 68/100\n",
      "18/18 [==============================] - 0s 2ms/step - loss: 0.5683 - accuracy: 0.7101 - val_loss: 0.5559 - val_accuracy: 0.7240\n",
      "Epoch 69/100\n",
      "18/18 [==============================] - 0s 2ms/step - loss: 0.5657 - accuracy: 0.7118 - val_loss: 0.5536 - val_accuracy: 0.7240\n",
      "Epoch 70/100\n",
      "18/18 [==============================] - 0s 2ms/step - loss: 0.5673 - accuracy: 0.6979 - val_loss: 0.5512 - val_accuracy: 0.7448\n",
      "Epoch 71/100\n",
      "18/18 [==============================] - 0s 2ms/step - loss: 0.5644 - accuracy: 0.7153 - val_loss: 0.5541 - val_accuracy: 0.7188\n",
      "Epoch 72/100\n",
      "18/18 [==============================] - 0s 2ms/step - loss: 0.5627 - accuracy: 0.7222 - val_loss: 0.5517 - val_accuracy: 0.7188\n",
      "Epoch 73/100\n",
      "18/18 [==============================] - 0s 2ms/step - loss: 0.5614 - accuracy: 0.7222 - val_loss: 0.5550 - val_accuracy: 0.7135\n",
      "Epoch 74/100\n",
      "18/18 [==============================] - 0s 2ms/step - loss: 0.5595 - accuracy: 0.7135 - val_loss: 0.5524 - val_accuracy: 0.7188\n",
      "Epoch 75/100\n",
      "18/18 [==============================] - 0s 2ms/step - loss: 0.5583 - accuracy: 0.7222 - val_loss: 0.5506 - val_accuracy: 0.7344\n",
      "Epoch 76/100\n",
      "18/18 [==============================] - 0s 2ms/step - loss: 0.5578 - accuracy: 0.7257 - val_loss: 0.5517 - val_accuracy: 0.7188\n",
      "Epoch 77/100\n",
      "18/18 [==============================] - 0s 2ms/step - loss: 0.5547 - accuracy: 0.7240 - val_loss: 0.5510 - val_accuracy: 0.6979\n",
      "Epoch 78/100\n",
      "18/18 [==============================] - 0s 2ms/step - loss: 0.5554 - accuracy: 0.7240 - val_loss: 0.5495 - val_accuracy: 0.7240\n",
      "Epoch 79/100\n",
      "18/18 [==============================] - 0s 2ms/step - loss: 0.5545 - accuracy: 0.7240 - val_loss: 0.5513 - val_accuracy: 0.6979\n",
      "Epoch 80/100\n",
      "18/18 [==============================] - 0s 2ms/step - loss: 0.5529 - accuracy: 0.7292 - val_loss: 0.5504 - val_accuracy: 0.7188\n",
      "Epoch 81/100\n",
      "18/18 [==============================] - 0s 2ms/step - loss: 0.5518 - accuracy: 0.7274 - val_loss: 0.5513 - val_accuracy: 0.7083\n",
      "Epoch 82/100\n",
      "18/18 [==============================] - 0s 2ms/step - loss: 0.5509 - accuracy: 0.7222 - val_loss: 0.5492 - val_accuracy: 0.7188\n",
      "Epoch 83/100\n",
      "18/18 [==============================] - 0s 2ms/step - loss: 0.5488 - accuracy: 0.7309 - val_loss: 0.5502 - val_accuracy: 0.7083\n",
      "Epoch 84/100\n",
      "18/18 [==============================] - 0s 2ms/step - loss: 0.5469 - accuracy: 0.7326 - val_loss: 0.5498 - val_accuracy: 0.6979\n",
      "Epoch 85/100\n",
      "18/18 [==============================] - 0s 2ms/step - loss: 0.5454 - accuracy: 0.7309 - val_loss: 0.5492 - val_accuracy: 0.7083\n",
      "Epoch 86/100\n",
      "18/18 [==============================] - 0s 2ms/step - loss: 0.5521 - accuracy: 0.7205 - val_loss: 0.5533 - val_accuracy: 0.7031\n",
      "Epoch 87/100\n",
      "18/18 [==============================] - 0s 2ms/step - loss: 0.5476 - accuracy: 0.7309 - val_loss: 0.5473 - val_accuracy: 0.7292\n",
      "Epoch 88/100\n",
      "18/18 [==============================] - 0s 2ms/step - loss: 0.5460 - accuracy: 0.7309 - val_loss: 0.5504 - val_accuracy: 0.6979\n",
      "Epoch 89/100\n",
      "18/18 [==============================] - 0s 2ms/step - loss: 0.5413 - accuracy: 0.7292 - val_loss: 0.5479 - val_accuracy: 0.7031\n",
      "Epoch 90/100\n",
      "18/18 [==============================] - 0s 2ms/step - loss: 0.5443 - accuracy: 0.7240 - val_loss: 0.5450 - val_accuracy: 0.7031\n",
      "Epoch 91/100\n",
      "18/18 [==============================] - 0s 2ms/step - loss: 0.5443 - accuracy: 0.7292 - val_loss: 0.5525 - val_accuracy: 0.7083\n",
      "Epoch 92/100\n",
      "18/18 [==============================] - 0s 2ms/step - loss: 0.5362 - accuracy: 0.7326 - val_loss: 0.5478 - val_accuracy: 0.6979\n",
      "Epoch 93/100\n",
      "18/18 [==============================] - 0s 2ms/step - loss: 0.5380 - accuracy: 0.7292 - val_loss: 0.5498 - val_accuracy: 0.6979\n",
      "Epoch 94/100\n",
      "18/18 [==============================] - 0s 2ms/step - loss: 0.5358 - accuracy: 0.7309 - val_loss: 0.5503 - val_accuracy: 0.6979\n",
      "Epoch 95/100\n",
      "18/18 [==============================] - 0s 2ms/step - loss: 0.5356 - accuracy: 0.7309 - val_loss: 0.5503 - val_accuracy: 0.6979\n",
      "Epoch 96/100\n",
      "18/18 [==============================] - 0s 2ms/step - loss: 0.5458 - accuracy: 0.7361 - val_loss: 0.5482 - val_accuracy: 0.7031\n",
      "Epoch 97/100\n",
      "18/18 [==============================] - 0s 2ms/step - loss: 0.5458 - accuracy: 0.7101 - val_loss: 0.5589 - val_accuracy: 0.7031\n",
      "Epoch 98/100\n",
      "18/18 [==============================] - 0s 2ms/step - loss: 0.5337 - accuracy: 0.7431 - val_loss: 0.5473 - val_accuracy: 0.7083\n",
      "Epoch 99/100\n",
      "18/18 [==============================] - 0s 2ms/step - loss: 0.5323 - accuracy: 0.7361 - val_loss: 0.5542 - val_accuracy: 0.7031\n",
      "Epoch 100/100\n",
      "18/18 [==============================] - 0s 2ms/step - loss: 0.5292 - accuracy: 0.7413 - val_loss: 0.5482 - val_accuracy: 0.6979\n",
      "6/6 [==============================] - 0s 598us/step\n"
     ]
    }
   ],
   "source": [
    "model_history=model.fit(x=X_train, y=y_train, epochs=100, batch_size=32,validation_data= (X_test,y_test))\n",
    "y_pred = model.predict(X_test)\n",
    "\n",
    "y_test_class = np.argmax(y_test,axis=1)\n",
    "y_pred_class = np.argmax(y_pred,axis=1)"
   ]
  },
  {
   "cell_type": "code",
   "execution_count": 128,
   "id": "c2801eed",
   "metadata": {},
   "outputs": [
    {
     "data": {
      "image/png": "[encoded data removed]",
      "text/plain": [
       "<Figure size 640x480 with 1 Axes>"
      ]
     },
     "metadata": {},
     "output_type": "display_data"
    }
   ],
   "source": [
    "import matplotlib.pyplot as plt\n",
    "import seaborn as sns\n",
    "\n",
    "loss =model_history.history['loss']\n",
    "val_loss =model_history.history['val_loss']\n",
    "epochs = range(1, len(loss) + 1)\n",
    "plt.plot(epochs, loss, 'y', label='Training loss')\n",
    "plt.plot(epochs, val_loss, 'r', label='Validation loss')\n",
    "plt.title('Training and validation loss')\n",
    "plt.xlabel('Epochs')\n",
    "plt.ylabel('Loss')\n",
    "plt.legend()\n",
    "plt.show()"
   ]
  },
  {
   "cell_type": "code",
   "execution_count": 129,
   "id": "7dc2d0d8",
   "metadata": {},
   "outputs": [
    {
     "data": {
      "image/png": "[encoded data removed]",
      "text/plain": [
       "<Figure size 640x480 with 1 Axes>"
      ]
     },
     "metadata": {},
     "output_type": "display_data"
    }
   ],
   "source": [
    "acc =model_history.history['accuracy']\n",
    "val_acc =model_history.history['val_accuracy']\n",
    "plt.plot(epochs, acc, 'y', label='Training acc')\n",
    "plt.plot(epochs, val_acc, 'r', label='Validation acc')\n",
    "plt.title('Training and validation accuracy')\n",
    "plt.xlabel('Epochs')\n",
    "plt.ylabel('Accuracy')\n",
    "plt.legend()\n",
    "plt.show()"
   ]
  },
  {
   "cell_type": "code",
   "execution_count": 130,
   "id": "1aca8e8c",
   "metadata": {},
   "outputs": [
    {
     "name": "stdout",
     "output_type": "stream",
     "text": [
      "              precision    recall  f1-score   support\n",
      "\n",
      "           0       0.77      0.79      0.78       130\n",
      "           1       0.53      0.50      0.52        62\n",
      "\n",
      "    accuracy                           0.70       192\n",
      "   macro avg       0.65      0.65      0.65       192\n",
      "weighted avg       0.69      0.70      0.70       192\n",
      "\n",
      "[[103  27]\n",
      " [ 31  31]]\n"
     ]
    }
   ],
   "source": [
    "#Accuracy of the predicted values\n",
    "from sklearn.metrics import classification_report,confusion_matrix\n",
    "print(classification_report(y_test_class,y_pred_class))\n",
    "print(confusion_matrix(y_test_class,y_pred_class))"
   ]
  },
  {
   "cell_type": "code",
   "execution_count": null,
   "id": "3b7063e0",
   "metadata": {},
   "outputs": [],
   "source": []
  }
 ],
 "metadata": {
  "kernelspec": {
   "display_name": "Python 3 (ipykernel)",
   "language": "python",
   "name": "python3"
  },
  "language_info": {
   "codemirror_mode": {
    "name": "ipython",
    "version": 3
   },
   "file_extension": ".py",
   "mimetype": "text/x-python",
   "name": "python",
   "nbconvert_exporter": "python",
   "pygments_lexer": "ipython3",
   "version": "3.9.13"
  }
 },
 "nbformat": 4,
 "nbformat_minor": 5
}
